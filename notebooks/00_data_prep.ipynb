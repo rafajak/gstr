{
 "cells": [
  {
   "cell_type": "code",
   "execution_count": 1,
   "metadata": {},
   "outputs": [],
   "source": [
    "%matplotlib inline"
   ]
  },
  {
   "cell_type": "code",
   "execution_count": 2,
   "metadata": {},
   "outputs": [],
   "source": [
    "import pandas as pd\n",
    "import numpy as np\n",
    "import re\n",
    "from pandas.io.json import json_normalize\n",
    "from pandas.api.types import is_string_dtype\n",
    "import os\n",
    "import json\n",
    "\n",
    "from sklearn.ensemble import RandomForestClassifier\n",
    "from sklearn.linear_model import LinearRegression\n",
    "\n"
   ]
  },
  {
   "cell_type": "code",
   "execution_count": null,
   "metadata": {},
   "outputs": [],
   "source": []
  },
  {
   "cell_type": "code",
   "execution_count": 3,
   "metadata": {},
   "outputs": [],
   "source": [
    "PATH = '../data/'"
   ]
  },
  {
   "cell_type": "markdown",
   "metadata": {},
   "source": [
    "## todo:\n",
    "\n",
    "1. <s> Figure out how to get stuff out of the JSON columns </s>\n",
    "3. <s> Prepare the dependent variable so it predicts what it needs to </s>\n",
    "4. <s> Make sure categorical variables are correctly encoded </s>\n",
    "5. <s> one-hot encode variables with cardinality <7 </s>\n",
    "6. <s> Get variables out of the date variable </s>\n",
    "7. Not sure I understand the distribution of \"totals.transactionRevenue\". Why is the mode around 16? \n",
    "7. <s> Deal with missing values </s>\n",
    "8. Preprocess the test data, too. Run the transformations on the joint df and then divide\n",
    "9. Fix the date variables\n",
    "10. get rid of the unimportant features (importance ==0)\n",
    "11. get rid of features with cardinality of 1 (ie. all values the same)\n",
    "\n"
   ]
  },
  {
   "cell_type": "markdown",
   "metadata": {},
   "source": [
    "# Load the data"
   ]
  },
  {
   "cell_type": "code",
   "execution_count": 4,
   "metadata": {},
   "outputs": [],
   "source": [
    "JSON_COLUMNS = ['device', 'geoNetwork', 'totals', 'trafficSource']"
   ]
  },
  {
   "cell_type": "code",
   "execution_count": 5,
   "metadata": {},
   "outputs": [],
   "source": [
    "# Get data hidden inside json columns out into separate columns \n",
    "# credit: julian3833 https://www.kaggle.com/julian3833/1-quick-start-read-csv-and-flatten-json-fields\n",
    "\n",
    "def load_df(csv_path=f'{PATH}train.csv', nrows=None):\n",
    "    JSON_COLUMNS = ['device', 'geoNetwork', 'totals', 'trafficSource']\n",
    "    \n",
    "    df = pd.read_csv(csv_path, \n",
    "                     converters={column: json.loads for column in JSON_COLUMNS}, \n",
    "                     dtype={'fullVisitorId': 'str',\n",
    "                            'totals.transactionRevenu': 'int64'\n",
    "                           },\n",
    "                     nrows=nrows)\n",
    "    \n",
    "    for column in JSON_COLUMNS:\n",
    "        column_as_df = json_normalize(df[column])\n",
    "        column_as_df.columns = [f\"{column}.{subcolumn}\" for subcolumn in column_as_df.columns]\n",
    "        df = df.drop(column, axis=1).merge(column_as_df, right_index=True, left_index=True)\n",
    "    print(f\"Loaded {os.path.basename(csv_path)}. Shape: {df.shape}\")\n",
    "    return df"
   ]
  },
  {
   "cell_type": "code",
   "execution_count": 6,
   "metadata": {},
   "outputs": [],
   "source": [
    "nrows=None\n",
    "# nrows=2000"
   ]
  },
  {
   "cell_type": "code",
   "execution_count": 7,
   "metadata": {
    "scrolled": true
   },
   "outputs": [
    {
     "name": "stdout",
     "output_type": "stream",
     "text": [
      "Loaded train.csv. Shape: (903653, 55)\n",
      "CPU times: user 3min 11s, sys: 4.88 s, total: 3min 16s\n",
      "Wall time: 3min 18s\n"
     ]
    }
   ],
   "source": [
    "%time df = load_df(nrows=nrows)"
   ]
  },
  {
   "cell_type": "code",
   "execution_count": 8,
   "metadata": {
    "scrolled": true
   },
   "outputs": [
    {
     "data": {
      "text/html": [
       "<div>\n",
       "<style scoped>\n",
       "    .dataframe tbody tr th:only-of-type {\n",
       "        vertical-align: middle;\n",
       "    }\n",
       "\n",
       "    .dataframe tbody tr th {\n",
       "        vertical-align: top;\n",
       "    }\n",
       "\n",
       "    .dataframe thead th {\n",
       "        text-align: right;\n",
       "    }\n",
       "</style>\n",
       "<table border=\"1\" class=\"dataframe\">\n",
       "  <thead>\n",
       "    <tr style=\"text-align: right;\">\n",
       "      <th></th>\n",
       "      <th>date</th>\n",
       "      <th>visitId</th>\n",
       "      <th>visitNumber</th>\n",
       "      <th>visitStartTime</th>\n",
       "    </tr>\n",
       "  </thead>\n",
       "  <tbody>\n",
       "    <tr>\n",
       "      <th>count</th>\n",
       "      <td>9.036530e+05</td>\n",
       "      <td>9.036530e+05</td>\n",
       "      <td>903653.000000</td>\n",
       "      <td>9.036530e+05</td>\n",
       "    </tr>\n",
       "    <tr>\n",
       "      <th>mean</th>\n",
       "      <td>2.016589e+07</td>\n",
       "      <td>1.485007e+09</td>\n",
       "      <td>2.264897</td>\n",
       "      <td>1.485007e+09</td>\n",
       "    </tr>\n",
       "    <tr>\n",
       "      <th>std</th>\n",
       "      <td>4.697698e+03</td>\n",
       "      <td>9.022124e+06</td>\n",
       "      <td>9.283735</td>\n",
       "      <td>9.022124e+06</td>\n",
       "    </tr>\n",
       "    <tr>\n",
       "      <th>min</th>\n",
       "      <td>2.016080e+07</td>\n",
       "      <td>1.470035e+09</td>\n",
       "      <td>1.000000</td>\n",
       "      <td>1.470035e+09</td>\n",
       "    </tr>\n",
       "    <tr>\n",
       "      <th>25%</th>\n",
       "      <td>2.016103e+07</td>\n",
       "      <td>1.477561e+09</td>\n",
       "      <td>1.000000</td>\n",
       "      <td>1.477561e+09</td>\n",
       "    </tr>\n",
       "    <tr>\n",
       "      <th>50%</th>\n",
       "      <td>2.017011e+07</td>\n",
       "      <td>1.483949e+09</td>\n",
       "      <td>1.000000</td>\n",
       "      <td>1.483949e+09</td>\n",
       "    </tr>\n",
       "    <tr>\n",
       "      <th>75%</th>\n",
       "      <td>2.017042e+07</td>\n",
       "      <td>1.492759e+09</td>\n",
       "      <td>1.000000</td>\n",
       "      <td>1.492759e+09</td>\n",
       "    </tr>\n",
       "    <tr>\n",
       "      <th>max</th>\n",
       "      <td>2.017080e+07</td>\n",
       "      <td>1.501657e+09</td>\n",
       "      <td>395.000000</td>\n",
       "      <td>1.501657e+09</td>\n",
       "    </tr>\n",
       "  </tbody>\n",
       "</table>\n",
       "</div>"
      ],
      "text/plain": [
       "               date       visitId    visitNumber  visitStartTime\n",
       "count  9.036530e+05  9.036530e+05  903653.000000    9.036530e+05\n",
       "mean   2.016589e+07  1.485007e+09       2.264897    1.485007e+09\n",
       "std    4.697698e+03  9.022124e+06       9.283735    9.022124e+06\n",
       "min    2.016080e+07  1.470035e+09       1.000000    1.470035e+09\n",
       "25%    2.016103e+07  1.477561e+09       1.000000    1.477561e+09\n",
       "50%    2.017011e+07  1.483949e+09       1.000000    1.483949e+09\n",
       "75%    2.017042e+07  1.492759e+09       1.000000    1.492759e+09\n",
       "max    2.017080e+07  1.501657e+09     395.000000    1.501657e+09"
      ]
     },
     "execution_count": 8,
     "metadata": {},
     "output_type": "execute_result"
    }
   ],
   "source": [
    "df.describe()"
   ]
  },
  {
   "cell_type": "code",
   "execution_count": 9,
   "metadata": {},
   "outputs": [
    {
     "data": {
      "text/plain": [
       "(20160801, 20170801)"
      ]
     },
     "execution_count": 9,
     "metadata": {},
     "output_type": "execute_result"
    }
   ],
   "source": [
    "#date span\n",
    "df.date.min(), df.date.max()"
   ]
  },
  {
   "cell_type": "markdown",
   "metadata": {},
   "source": [
    "# Add date variables"
   ]
  },
  {
   "cell_type": "code",
   "execution_count": 10,
   "metadata": {},
   "outputs": [],
   "source": [
    "# extract date vars. Adapted from the fastai library\n",
    "\n",
    "def add_datepart(df, fldname, drop=False, time=False):\n",
    "    \n",
    "    fld = df[fldname]\n",
    "    fld_dtype = fld.dtype\n",
    "\n",
    "    if isinstance(fld_dtype, pd.core.dtypes.dtypes.DatetimeTZDtype):\n",
    "        fld_dtype = np.datetime64\n",
    "\n",
    "    if not np.issubdtype(fld_dtype, np.datetime64):\n",
    "        df[fldname] = fld = pd.to_datetime(fld, format='%Y%m%d')\n",
    "        \n",
    "    targ_pre = re.sub('[Dd]ate$', '', fldname)\n",
    "    attr = ['Year', 'Month', 'Week', 'Day', 'Dayofweek', 'Dayofyear',\n",
    "            'Is_month_end', 'Is_month_start', 'Is_quarter_end', 'Is_quarter_start', 'Is_year_end', 'Is_year_start']\n",
    "    if time: \n",
    "        attr = attr + ['Hour', 'Minute', 'Second']\n",
    "    for n in attr: \n",
    "        df[targ_pre + n] = getattr(fld.dt, n.lower())\n",
    "        \n",
    "    df[targ_pre + 'Elapsed'] = fld.astype(np.int64) // 10 ** 9\n",
    "    \n",
    "    if drop: \n",
    "        df.drop(fldname, axis=1, inplace=True)"
   ]
  },
  {
   "cell_type": "code",
   "execution_count": 11,
   "metadata": {},
   "outputs": [],
   "source": [
    "add_datepart(df, 'date')"
   ]
  },
  {
   "cell_type": "code",
   "execution_count": 30,
   "metadata": {},
   "outputs": [
    {
     "data": {
      "text/plain": [
       "['channelGrouping_(Other)',\n",
       " 'channelGrouping_Affiliates',\n",
       " 'channelGrouping_Direct',\n",
       " 'channelGrouping_Display',\n",
       " 'channelGrouping_Organic Search',\n",
       " 'channelGrouping_Paid Search',\n",
       " 'channelGrouping_Referral',\n",
       " 'channelGrouping_Social',\n",
       " 'channelGrouping_nan',\n",
       " 'socialEngagementType_Not Socially Engaged',\n",
       " 'socialEngagementType_nan',\n",
       " 'device.browserSize_not available in demo dataset',\n",
       " 'device.browserSize_nan',\n",
       " 'device.browserVersion_not available in demo dataset',\n",
       " 'device.browserVersion_nan',\n",
       " 'device.deviceCategory_desktop',\n",
       " 'device.deviceCategory_mobile',\n",
       " 'device.deviceCategory_tablet',\n",
       " 'device.deviceCategory_nan',\n",
       " 'device.flashVersion_not available in demo dataset',\n",
       " 'device.flashVersion_nan',\n",
       " 'device.language_not available in demo dataset',\n",
       " 'device.language_nan',\n",
       " 'device.mobileDeviceBranding_not available in demo dataset',\n",
       " 'device.mobileDeviceBranding_nan',\n",
       " 'device.mobileDeviceInfo_not available in demo dataset',\n",
       " 'device.mobileDeviceInfo_nan',\n",
       " 'device.mobileDeviceMarketingName_not available in demo dataset',\n",
       " 'device.mobileDeviceMarketingName_nan',\n",
       " 'device.mobileDeviceModel_not available in demo dataset',\n",
       " 'device.mobileDeviceModel_nan',\n",
       " 'device.mobileInputSelector_not available in demo dataset',\n",
       " 'device.mobileInputSelector_nan',\n",
       " 'device.operatingSystemVersion_not available in demo dataset',\n",
       " 'device.operatingSystemVersion_nan',\n",
       " 'device.screenColors_not available in demo dataset',\n",
       " 'device.screenColors_nan',\n",
       " 'device.screenResolution_not available in demo dataset',\n",
       " 'device.screenResolution_nan',\n",
       " 'geoNetwork.cityId_not available in demo dataset',\n",
       " 'geoNetwork.cityId_nan',\n",
       " 'geoNetwork.continent_(not set)',\n",
       " 'geoNetwork.continent_Africa',\n",
       " 'geoNetwork.continent_Americas',\n",
       " 'geoNetwork.continent_Asia',\n",
       " 'geoNetwork.continent_Europe',\n",
       " 'geoNetwork.continent_Oceania',\n",
       " 'geoNetwork.continent_nan',\n",
       " 'geoNetwork.latitude_not available in demo dataset',\n",
       " 'geoNetwork.latitude_nan',\n",
       " 'geoNetwork.longitude_not available in demo dataset',\n",
       " 'geoNetwork.longitude_nan',\n",
       " 'geoNetwork.networkLocation_not available in demo dataset',\n",
       " 'geoNetwork.networkLocation_nan',\n",
       " 'totals.bounces_1',\n",
       " 'totals.bounces_-1',\n",
       " 'totals.bounces_nan',\n",
       " 'totals.newVisits_1',\n",
       " 'totals.newVisits_-1',\n",
       " 'totals.newVisits_nan',\n",
       " 'totals.visits_1',\n",
       " 'totals.visits_nan',\n",
       " 'trafficSource.adwordsClickInfo.adNetworkType_Google Search',\n",
       " 'trafficSource.adwordsClickInfo.adNetworkType_Search partners',\n",
       " 'trafficSource.adwordsClickInfo.adNetworkType_-1',\n",
       " 'trafficSource.adwordsClickInfo.adNetworkType_nan',\n",
       " 'trafficSource.adwordsClickInfo.criteriaParameters_not available in demo dataset',\n",
       " 'trafficSource.adwordsClickInfo.criteriaParameters_nan',\n",
       " 'trafficSource.adwordsClickInfo.isVideoAd_False',\n",
       " 'trafficSource.adwordsClickInfo.isVideoAd_-1',\n",
       " 'trafficSource.adwordsClickInfo.isVideoAd_nan',\n",
       " 'trafficSource.adwordsClickInfo.page_1',\n",
       " 'trafficSource.adwordsClickInfo.page_14',\n",
       " 'trafficSource.adwordsClickInfo.page_2',\n",
       " 'trafficSource.adwordsClickInfo.page_3',\n",
       " 'trafficSource.adwordsClickInfo.page_4',\n",
       " 'trafficSource.adwordsClickInfo.page_5',\n",
       " 'trafficSource.adwordsClickInfo.page_7',\n",
       " 'trafficSource.adwordsClickInfo.page_9',\n",
       " 'trafficSource.adwordsClickInfo.page_-1',\n",
       " 'trafficSource.adwordsClickInfo.page_nan',\n",
       " 'trafficSource.adwordsClickInfo.slot_RHS',\n",
       " 'trafficSource.adwordsClickInfo.slot_Top',\n",
       " 'trafficSource.adwordsClickInfo.slot_-1',\n",
       " 'trafficSource.adwordsClickInfo.slot_nan',\n",
       " 'trafficSource.campaign_(not set)',\n",
       " 'trafficSource.campaign_AW - Accessories',\n",
       " 'trafficSource.campaign_AW - Apparel',\n",
       " 'trafficSource.campaign_AW - Dynamic Search Ads Whole Site',\n",
       " 'trafficSource.campaign_AW - Electronics',\n",
       " 'trafficSource.campaign_All Products',\n",
       " 'trafficSource.campaign_Data Share',\n",
       " 'trafficSource.campaign_Data Share Promo',\n",
       " 'trafficSource.campaign_Retail (DO NOT EDIT owners nophakun and tianyu)',\n",
       " 'trafficSource.campaign_test-liyuhz',\n",
       " 'trafficSource.campaign_nan',\n",
       " 'trafficSource.campaignCode_11251kjhkvahf',\n",
       " 'trafficSource.campaignCode_-1',\n",
       " 'trafficSource.campaignCode_nan',\n",
       " 'trafficSource.isTrueDirect_True',\n",
       " 'trafficSource.isTrueDirect_-1',\n",
       " 'trafficSource.isTrueDirect_nan',\n",
       " 'trafficSource.medium_(none)',\n",
       " 'trafficSource.medium_(not set)',\n",
       " 'trafficSource.medium_affiliate',\n",
       " 'trafficSource.medium_cpc',\n",
       " 'trafficSource.medium_cpm',\n",
       " 'trafficSource.medium_organic',\n",
       " 'trafficSource.medium_referral',\n",
       " 'trafficSource.medium_nan',\n",
       " 'date',\n",
       " 'fullVisitorId',\n",
       " 'sessionId',\n",
       " 'visitId',\n",
       " 'visitNumber',\n",
       " 'visitStartTime',\n",
       " 'device.browser',\n",
       " 'device.isMobile',\n",
       " 'device.operatingSystem',\n",
       " 'geoNetwork.city',\n",
       " 'geoNetwork.country',\n",
       " 'geoNetwork.metro',\n",
       " 'geoNetwork.networkDomain',\n",
       " 'geoNetwork.region',\n",
       " 'geoNetwork.subContinent',\n",
       " 'totals.hits',\n",
       " 'totals.pageviews',\n",
       " 'totals.transactionRevenue',\n",
       " 'trafficSource.adContent',\n",
       " 'trafficSource.adwordsClickInfo.gclId',\n",
       " 'trafficSource.keyword',\n",
       " 'trafficSource.referralPath',\n",
       " 'trafficSource.source',\n",
       " 'totals.bounces_na',\n",
       " 'totals.newVisits_na',\n",
       " 'totals.pageviews_na',\n",
       " 'trafficSource.adContent_na',\n",
       " 'trafficSource.adwordsClickInfo.adNetworkType_na',\n",
       " 'trafficSource.adwordsClickInfo.gclId_na',\n",
       " 'trafficSource.adwordsClickInfo.isVideoAd_na',\n",
       " 'trafficSource.adwordsClickInfo.page_na',\n",
       " 'trafficSource.adwordsClickInfo.slot_na',\n",
       " 'trafficSource.campaignCode_na',\n",
       " 'trafficSource.isTrueDirect_na',\n",
       " 'trafficSource.keyword_na',\n",
       " 'trafficSource.referralPath_na']"
      ]
     },
     "execution_count": 30,
     "metadata": {},
     "output_type": "execute_result"
    }
   ],
   "source": [
    "[col for col in df.columns]"
   ]
  },
  {
   "cell_type": "code",
   "execution_count": 11,
   "metadata": {},
   "outputs": [
    {
     "name": "stderr",
     "output_type": "stream",
     "text": [
      "/home/rafal/.conda/envs/fastai/lib/python3.6/site-packages/pandas/core/generic.py:1996: PerformanceWarning: \n",
      "your performance may suffer as PyTables will pickle object types that it cannot\n",
      "map directly to c-types [inferred_type->mixed,key->block2_values] [items->['channelGrouping', 'fullVisitorId', 'sessionId', 'socialEngagementType', 'device.browser', 'device.browserSize', 'device.browserVersion', 'device.deviceCategory', 'device.flashVersion', 'device.language', 'device.mobileDeviceBranding', 'device.mobileDeviceInfo', 'device.mobileDeviceMarketingName', 'device.mobileDeviceModel', 'device.mobileInputSelector', 'device.operatingSystem', 'device.operatingSystemVersion', 'device.screenColors', 'device.screenResolution', 'geoNetwork.city', 'geoNetwork.cityId', 'geoNetwork.continent', 'geoNetwork.country', 'geoNetwork.latitude', 'geoNetwork.longitude', 'geoNetwork.metro', 'geoNetwork.networkDomain', 'geoNetwork.networkLocation', 'geoNetwork.region', 'geoNetwork.subContinent', 'totals.bounces', 'totals.hits', 'totals.newVisits', 'totals.pageviews', 'totals.transactionRevenue', 'totals.visits', 'trafficSource.adContent', 'trafficSource.adwordsClickInfo.adNetworkType', 'trafficSource.adwordsClickInfo.criteriaParameters', 'trafficSource.adwordsClickInfo.gclId', 'trafficSource.adwordsClickInfo.isVideoAd', 'trafficSource.adwordsClickInfo.page', 'trafficSource.adwordsClickInfo.slot', 'trafficSource.campaign', 'trafficSource.campaignCode', 'trafficSource.isTrueDirect', 'trafficSource.keyword', 'trafficSource.medium', 'trafficSource.referralPath', 'trafficSource.source']]\n",
      "\n",
      "  return pytables.to_hdf(path_or_buf, key, self, **kwargs)\n"
     ]
    }
   ],
   "source": [
    "df.to_hdf(f'{PATH}'+\"preprocessed_df.hdf\", key=\"df\")\n",
    "df = pd.read_hdf(f'{PATH}'+\"preprocessed_df.hdf\")\n"
   ]
  },
  {
   "cell_type": "markdown",
   "metadata": {},
   "source": [
    "# Converting string variables into category variables."
   ]
  },
  {
   "cell_type": "code",
   "execution_count": 12,
   "metadata": {},
   "outputs": [],
   "source": [
    "cat_vars = []\n",
    "for n,c in df.items():\n",
    "    if is_string_dtype(c): \n",
    "        cat_vars.append(n)\n",
    "        df[n] = c.astype('category').cat.as_ordered()"
   ]
  },
  {
   "cell_type": "markdown",
   "metadata": {},
   "source": [
    "# A quick look at the missing values"
   ]
  },
  {
   "cell_type": "code",
   "execution_count": 13,
   "metadata": {
    "scrolled": true
   },
   "outputs": [
    {
     "data": {
      "text/plain": [
       "channelGrouping                                      0.000000\n",
       "date                                                 0.000000\n",
       "device.browser                                       0.000000\n",
       "device.browserSize                                   0.000000\n",
       "device.browserVersion                                0.000000\n",
       "device.deviceCategory                                0.000000\n",
       "device.flashVersion                                  0.000000\n",
       "device.isMobile                                      0.000000\n",
       "device.language                                      0.000000\n",
       "device.mobileDeviceBranding                          0.000000\n",
       "device.mobileDeviceInfo                              0.000000\n",
       "device.mobileDeviceMarketingName                     0.000000\n",
       "device.mobileDeviceModel                             0.000000\n",
       "device.mobileInputSelector                           0.000000\n",
       "device.operatingSystem                               0.000000\n",
       "device.operatingSystemVersion                        0.000000\n",
       "device.screenColors                                  0.000000\n",
       "device.screenResolution                              0.000000\n",
       "fullVisitorId                                        0.000000\n",
       "geoNetwork.city                                      0.000000\n",
       "geoNetwork.cityId                                    0.000000\n",
       "geoNetwork.continent                                 0.000000\n",
       "geoNetwork.country                                   0.000000\n",
       "geoNetwork.latitude                                  0.000000\n",
       "geoNetwork.longitude                                 0.000000\n",
       "geoNetwork.metro                                     0.000000\n",
       "geoNetwork.networkDomain                             0.000000\n",
       "geoNetwork.networkLocation                           0.000000\n",
       "geoNetwork.region                                    0.000000\n",
       "geoNetwork.subContinent                              0.000000\n",
       "sessionId                                            0.000000\n",
       "socialEngagementType                                 0.000000\n",
       "totals.bounces                                       0.501324\n",
       "totals.hits                                          0.000000\n",
       "totals.newVisits                                     0.221980\n",
       "totals.pageviews                                     0.000111\n",
       "totals.transactionRevenue                            0.987257\n",
       "totals.visits                                        0.000000\n",
       "trafficSource.adContent                              0.987887\n",
       "trafficSource.adwordsClickInfo.adNetworkType         0.976252\n",
       "trafficSource.adwordsClickInfo.criteriaParameters    0.000000\n",
       "trafficSource.adwordsClickInfo.gclId                 0.976140\n",
       "trafficSource.adwordsClickInfo.isVideoAd             0.976252\n",
       "trafficSource.adwordsClickInfo.page                  0.976252\n",
       "trafficSource.adwordsClickInfo.slot                  0.976252\n",
       "trafficSource.campaign                               0.000000\n",
       "trafficSource.campaignCode                           0.999999\n",
       "trafficSource.isTrueDirect                           0.696781\n",
       "trafficSource.keyword                                0.556551\n",
       "trafficSource.medium                                 0.000000\n",
       "trafficSource.referralPath                           0.633774\n",
       "trafficSource.source                                 0.000000\n",
       "visitId                                              0.000000\n",
       "visitNumber                                          0.000000\n",
       "visitStartTime                                       0.000000\n",
       "dtype: float64"
      ]
     },
     "execution_count": 13,
     "metadata": {},
     "output_type": "execute_result"
    }
   ],
   "source": [
    "df.isnull().sum().sort_index()/len(df)"
   ]
  },
  {
   "cell_type": "code",
   "execution_count": 14,
   "metadata": {},
   "outputs": [],
   "source": [
    "df = df.replace([np.inf, -np.inf], np.nan)"
   ]
  },
  {
   "cell_type": "code",
   "execution_count": 15,
   "metadata": {},
   "outputs": [
    {
     "data": {
      "text/plain": [
       "CategoricalDtype(categories=['10000', '100000000', '100050000', '1000780000',\n",
       "                  '1001590000', '100220000', '100260000', '100350000',\n",
       "                  '100440000', '1004490000',\n",
       "                  ...\n",
       "                  '99850000', '998750000', '9990000', '99900000', '99950000',\n",
       "                  '999500000', '99960000', '99970000', '99980000', '99990000'],\n",
       "                 ordered=True)"
      ]
     },
     "execution_count": 15,
     "metadata": {},
     "output_type": "execute_result"
    }
   ],
   "source": [
    "df['totals.transactionRevenue'].dtype"
   ]
  },
  {
   "cell_type": "code",
   "execution_count": 16,
   "metadata": {},
   "outputs": [
    {
     "data": {
      "text/plain": [
       "NaN          892138\n",
       "16990000        256\n",
       "18990000        189\n",
       "33590000        187\n",
       "44790000        170\n",
       "13590000        135\n",
       "55990000        122\n",
       "19990000        116\n",
       "15990000         98\n",
       "15190000         93\n",
       "19190000         92\n",
       "10990000         84\n",
       "59990000         81\n",
       "24990000         77\n",
       "79990000         65\n",
       "27190000         64\n",
       "27180000         62\n",
       "33980000         54\n",
       "39990000         51\n",
       "67180000         46\n",
       "1990000          44\n",
       "28780000         40\n",
       "21990000         40\n",
       "35980000         39\n",
       "30390000         39\n",
       "17590000         38\n",
       "31990000         37\n",
       "27980000         37\n",
       "30380000         37\n",
       "12990000         37\n",
       "              ...  \n",
       "437070000         1\n",
       "43710000          1\n",
       "43720000          1\n",
       "43780000          1\n",
       "438020000         1\n",
       "43080000          1\n",
       "43850000          1\n",
       "438540000         1\n",
       "4390000           1\n",
       "439000000         1\n",
       "43930000          1\n",
       "43950000          1\n",
       "43640000          1\n",
       "436300000         1\n",
       "43610000          1\n",
       "436020000         1\n",
       "435910000         1\n",
       "43590000          1\n",
       "435860000         1\n",
       "43570000          1\n",
       "43530000          1\n",
       "43450000          1\n",
       "43430000          1\n",
       "43350000          1\n",
       "433120000         1\n",
       "43270000          1\n",
       "43210000          1\n",
       "43200000          1\n",
       "43120000          1\n",
       "10000             1\n",
       "Name: totals.transactionRevenue, Length: 5333, dtype: int64"
      ]
     },
     "execution_count": 16,
     "metadata": {},
     "output_type": "execute_result"
    }
   ],
   "source": [
    "df['totals.transactionRevenue'].value_counts(dropna=False)\n"
   ]
  },
  {
   "cell_type": "code",
   "execution_count": 17,
   "metadata": {
    "scrolled": true
   },
   "outputs": [
    {
     "data": {
      "text/plain": [
       "['totals.bounces',\n",
       " 'totals.newVisits',\n",
       " 'totals.pageviews',\n",
       " 'trafficSource.adContent',\n",
       " 'trafficSource.adwordsClickInfo.adNetworkType',\n",
       " 'trafficSource.adwordsClickInfo.gclId',\n",
       " 'trafficSource.adwordsClickInfo.isVideoAd',\n",
       " 'trafficSource.adwordsClickInfo.page',\n",
       " 'trafficSource.adwordsClickInfo.slot',\n",
       " 'trafficSource.campaignCode',\n",
       " 'trafficSource.isTrueDirect',\n",
       " 'trafficSource.keyword',\n",
       " 'trafficSource.referralPath']"
      ]
     },
     "execution_count": 17,
     "metadata": {},
     "output_type": "execute_result"
    }
   ],
   "source": [
    "# df.info(null_counts=True)\n",
    "cols_with_nulls = []\n",
    "for col in df.columns: \n",
    "    if (df[col].hasnans) & (col != \"totals.transactionRevenue\"): \n",
    "        cols_with_nulls.append(col)\n",
    "        \n",
    "cols_with_nulls"
   ]
  },
  {
   "cell_type": "code",
   "execution_count": 18,
   "metadata": {},
   "outputs": [
    {
     "data": {
      "text/plain": [
       "NaN    453023\n",
       "1      450630\n",
       "Name: totals.bounces, dtype: int64"
      ]
     },
     "execution_count": 18,
     "metadata": {},
     "output_type": "execute_result"
    }
   ],
   "source": [
    "df['totals.bounces'].value_counts(dropna=False)"
   ]
  },
  {
   "cell_type": "code",
   "execution_count": 19,
   "metadata": {},
   "outputs": [],
   "source": [
    "for col in cols_with_nulls:\n",
    "    if pd.api.types.is_numeric_dtype(df[col]):\n",
    "        df[col+'_na'] = pd.isnull(df[col])\n",
    "        df[col] = df[col].fillna(df[col].median())\n",
    "    elif pd.api.types.is_categorical_dtype(df[col]):\n",
    "        df[col+'_na'] = pd.isnull(df[col])\n",
    "        df[col] =  df[col].cat.add_categories([\"-1\"])\n",
    "        df[col] = df[col].fillna(\"-1\")\n",
    "\n",
    "\n"
   ]
  },
  {
   "cell_type": "code",
   "execution_count": 20,
   "metadata": {},
   "outputs": [
    {
     "data": {
      "text/plain": [
       "['totals.transactionRevenue']"
      ]
     },
     "execution_count": 20,
     "metadata": {},
     "output_type": "execute_result"
    }
   ],
   "source": [
    "cols_with_nulls = []\n",
    "for col in df.columns: \n",
    "    if df[col].hasnans: \n",
    "        cols_with_nulls.append(col)\n",
    "        \n",
    "cols_with_nulls"
   ]
  },
  {
   "cell_type": "code",
   "execution_count": 21,
   "metadata": {},
   "outputs": [
    {
     "data": {
      "text/plain": [
       "NaN          892138\n",
       "16990000        256\n",
       "18990000        189\n",
       "33590000        187\n",
       "44790000        170\n",
       "13590000        135\n",
       "55990000        122\n",
       "19990000        116\n",
       "15990000         98\n",
       "15190000         93\n",
       "19190000         92\n",
       "10990000         84\n",
       "59990000         81\n",
       "24990000         77\n",
       "79990000         65\n",
       "27190000         64\n",
       "27180000         62\n",
       "33980000         54\n",
       "39990000         51\n",
       "67180000         46\n",
       "1990000          44\n",
       "28780000         40\n",
       "21990000         40\n",
       "35980000         39\n",
       "30390000         39\n",
       "17590000         38\n",
       "31990000         37\n",
       "27980000         37\n",
       "30380000         37\n",
       "12990000         37\n",
       "              ...  \n",
       "437070000         1\n",
       "43710000          1\n",
       "43720000          1\n",
       "43780000          1\n",
       "438020000         1\n",
       "43080000          1\n",
       "43850000          1\n",
       "438540000         1\n",
       "4390000           1\n",
       "439000000         1\n",
       "43930000          1\n",
       "43950000          1\n",
       "43640000          1\n",
       "436300000         1\n",
       "43610000          1\n",
       "436020000         1\n",
       "435910000         1\n",
       "43590000          1\n",
       "435860000         1\n",
       "43570000          1\n",
       "43530000          1\n",
       "43450000          1\n",
       "43430000          1\n",
       "43350000          1\n",
       "433120000         1\n",
       "43270000          1\n",
       "43210000          1\n",
       "43200000          1\n",
       "43120000          1\n",
       "10000             1\n",
       "Name: totals.transactionRevenue, Length: 5333, dtype: int64"
      ]
     },
     "execution_count": 21,
     "metadata": {},
     "output_type": "execute_result"
    }
   ],
   "source": [
    "df['totals.transactionRevenue'].value_counts(dropna=False)"
   ]
  },
  {
   "cell_type": "markdown",
   "metadata": {},
   "source": [
    "# One-hot encoding categorical variables with cardinality <= 15."
   ]
  },
  {
   "cell_type": "code",
   "execution_count": null,
   "metadata": {},
   "outputs": [],
   "source": []
  },
  {
   "cell_type": "code",
   "execution_count": 22,
   "metadata": {},
   "outputs": [],
   "source": [
    "def dummify(df, min_cardinality=0, max_cardinality=15):\n",
    "\n",
    "    to_dummify = []\n",
    "    \n",
    "    for n,c in df.items():\n",
    "        \n",
    "        if str(df.dtypes[n]) == 'category':\n",
    "            if ((len(df[n].cat.categories)) > min_cardinality) \\\n",
    "            & ((len(df[n].cat.categories)) <= max_cardinality):\n",
    "                to_dummify.append(n)\n",
    "    print(to_dummify)            \n",
    "    dummified = pd.get_dummies(df[to_dummify], dummy_na=True)\n",
    "    dummified = pd.concat([dummified, df], axis=1)\n",
    "    dummified_df = dummified.drop(to_dummify, axis=1)\n",
    "    \n",
    "    return to_dummify, dummified_df"
   ]
  },
  {
   "cell_type": "code",
   "execution_count": 23,
   "metadata": {},
   "outputs": [
    {
     "name": "stdout",
     "output_type": "stream",
     "text": [
      "['channelGrouping', 'socialEngagementType', 'device.browserSize', 'device.browserVersion', 'device.deviceCategory', 'device.flashVersion', 'device.language', 'device.mobileDeviceBranding', 'device.mobileDeviceInfo', 'device.mobileDeviceMarketingName', 'device.mobileDeviceModel', 'device.mobileInputSelector', 'device.operatingSystemVersion', 'device.screenColors', 'device.screenResolution', 'geoNetwork.cityId', 'geoNetwork.continent', 'geoNetwork.latitude', 'geoNetwork.longitude', 'geoNetwork.networkLocation', 'totals.bounces', 'totals.newVisits', 'totals.visits', 'trafficSource.adwordsClickInfo.adNetworkType', 'trafficSource.adwordsClickInfo.criteriaParameters', 'trafficSource.adwordsClickInfo.isVideoAd', 'trafficSource.adwordsClickInfo.page', 'trafficSource.adwordsClickInfo.slot', 'trafficSource.campaign', 'trafficSource.campaignCode', 'trafficSource.isTrueDirect', 'trafficSource.medium']\n"
     ]
    }
   ],
   "source": [
    "dumd_vars, df = dummify(df)"
   ]
  },
  {
   "cell_type": "code",
   "execution_count": 25,
   "metadata": {},
   "outputs": [],
   "source": [
    "#These are the remaining, not dummified categorical variables.\n",
    "#Let's convert them to ints (otherwise sklearn's random forest is grumpy)\n",
    "\n",
    "remaining_cat_vars = (list(set(cat_vars) - set(dumd_vars))) \n",
    "\n",
    "for var in remaining_cat_vars:\n",
    "    if (var != \"totals.transactionRevenue\"):\n",
    "        df[var] = df[var].cat.codes"
   ]
  },
  {
   "cell_type": "markdown",
   "metadata": {},
   "source": [
    "# Prepare the dependent variable (log-transform)"
   ]
  },
  {
   "cell_type": "code",
   "execution_count": 27,
   "metadata": {},
   "outputs": [],
   "source": [
    "# Prepare the dependent variable (log)\n",
    "\n",
    "df['totals.transactionRevenue'] = pd.to_numeric(df['totals.transactionRevenue'], errors='coerce')\n",
    "df['totals.transactionRevenue'] = df['totals.transactionRevenue'].fillna(0)\n",
    "df[\"totals.transactionRevenue\"] = np.log1p(df[\"totals.transactionRevenue\"])"
   ]
  },
  {
   "cell_type": "code",
   "execution_count": 28,
   "metadata": {
    "scrolled": true
   },
   "outputs": [
    {
     "data": {
      "text/plain": [
       "0.000000     892138\n",
       "16.648136       256\n",
       "16.759423       189\n",
       "17.329739       187\n",
       "17.617495       170\n",
       "16.424845       135\n",
       "17.840684       122\n",
       "16.810743       116\n",
       "16.587474        98\n",
       "16.536148        93\n",
       "16.769900        92\n",
       "16.212496        84\n",
       "17.909688        81\n",
       "17.033986        77\n",
       "18.197412        65\n",
       "17.118360        64\n",
       "17.117992        62\n",
       "17.341283        54\n",
       "17.504140        51\n",
       "18.022886        46\n",
       "14.503646        44\n",
       "16.906098        40\n",
       "17.175191        40\n",
       "17.398474        39\n",
       "17.229624        39\n",
       "16.682841        38\n",
       "16.379690        37\n",
       "17.280934        37\n",
       "17.229295        37\n",
       "17.147001        37\n",
       "              ...  \n",
       "18.649409         1\n",
       "19.728473         1\n",
       "19.533590         1\n",
       "18.469090         1\n",
       "20.506129         1\n",
       "19.525109         1\n",
       "17.498372         1\n",
       "20.864418         1\n",
       "19.796243         1\n",
       "18.478950         1\n",
       "17.296751         1\n",
       "18.811979         1\n",
       "19.823070         1\n",
       "18.539796         1\n",
       "18.902675         1\n",
       "18.690173         1\n",
       "16.332400         1\n",
       "17.300130         1\n",
       "20.428680         1\n",
       "20.610791         1\n",
       "19.323116         1\n",
       "21.135210         1\n",
       "18.482340         1\n",
       "18.348970         1\n",
       "17.535646         1\n",
       "18.225152         1\n",
       "16.418200         1\n",
       "18.678883         1\n",
       "18.994763         1\n",
       "18.858742         1\n",
       "Name: totals.transactionRevenue, Length: 5333, dtype: int64"
      ]
     },
     "execution_count": 28,
     "metadata": {},
     "output_type": "execute_result"
    }
   ],
   "source": [
    "df['totals.transactionRevenue'].value_counts(dropna=False)"
   ]
  },
  {
   "cell_type": "markdown",
   "metadata": {},
   "source": [
    "# Save the preprocessed dataset"
   ]
  },
  {
   "cell_type": "code",
   "execution_count": 29,
   "metadata": {},
   "outputs": [],
   "source": [
    "df.to_hdf(f'{PATH}'+\"preprocessed_df.hdf\", key=\"df\")"
   ]
  },
  {
   "cell_type": "markdown",
   "metadata": {},
   "source": [
    "# _tmp"
   ]
  },
  {
   "cell_type": "code",
   "execution_count": null,
   "metadata": {},
   "outputs": [],
   "source": []
  },
  {
   "cell_type": "code",
   "execution_count": null,
   "metadata": {},
   "outputs": [],
   "source": []
  },
  {
   "cell_type": "code",
   "execution_count": null,
   "metadata": {},
   "outputs": [],
   "source": []
  },
  {
   "cell_type": "code",
   "execution_count": null,
   "metadata": {},
   "outputs": [],
   "source": []
  },
  {
   "cell_type": "code",
   "execution_count": null,
   "metadata": {},
   "outputs": [],
   "source": []
  },
  {
   "cell_type": "code",
   "execution_count": null,
   "metadata": {},
   "outputs": [],
   "source": []
  },
  {
   "cell_type": "code",
   "execution_count": null,
   "metadata": {},
   "outputs": [],
   "source": []
  },
  {
   "cell_type": "code",
   "execution_count": null,
   "metadata": {},
   "outputs": [],
   "source": []
  }
 ],
 "metadata": {
  "kernelspec": {
   "display_name": "Python [default]",
   "language": "python",
   "name": "python3"
  },
  "language_info": {
   "codemirror_mode": {
    "name": "ipython",
    "version": 3
   },
   "file_extension": ".py",
   "mimetype": "text/x-python",
   "name": "python",
   "nbconvert_exporter": "python",
   "pygments_lexer": "ipython3",
   "version": "3.6.6"
  },
  "toc": {
   "base_numbering": 1,
   "nav_menu": {},
   "number_sections": true,
   "sideBar": true,
   "skip_h1_title": false,
   "title_cell": "Table of Contents",
   "title_sidebar": "Contents",
   "toc_cell": false,
   "toc_position": {},
   "toc_section_display": true,
   "toc_window_display": true
  }
 },
 "nbformat": 4,
 "nbformat_minor": 2
}
