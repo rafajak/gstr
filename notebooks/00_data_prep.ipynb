{
 "cells": [
  {
   "cell_type": "code",
   "execution_count": 1,
   "metadata": {},
   "outputs": [],
   "source": [
    "import pandas as pd\n",
    "import numpy as np\n",
    "import re\n",
    "from pandas.io.json import json_normalize\n",
    "from pandas.api.types import is_string_dtype"
   ]
  },
  {
   "cell_type": "code",
   "execution_count": 2,
   "metadata": {},
   "outputs": [],
   "source": [
    "PATH = '../data/'"
   ]
  },
  {
   "cell_type": "markdown",
   "metadata": {},
   "source": [
    "###### todo:\n",
    "\n",
    "1. <s> Figure out how to get stuff out of the JSON columns </s>\n",
    "2. Run Pandas profiling on the data (separate notebook)\n",
    "3. Prepare the dependent variable so it predicts what it needs to \n",
    "4. <s> Make sure categorical variables are correctly encoded </s>\n",
    "5. <s> one-hot encode variables with cardinality <7 </s>\n",
    "6. <s> Get variables out of the date variable </s>\n",
    "7. Deal with missing values\n",
    "7. Run a baseline model\n",
    "\n",
    "minor:\n",
    "  - get nbwidgets so I can be more organised with chapters\n"
   ]
  },
  {
   "cell_type": "code",
   "execution_count": 3,
   "metadata": {},
   "outputs": [],
   "source": [
    "# 1. Load the data"
   ]
  },
  {
   "cell_type": "code",
   "execution_count": 4,
   "metadata": {
    "scrolled": true
   },
   "outputs": [
    {
     "data": {
      "text/plain": [
       "'../data/train.csv'"
      ]
     },
     "execution_count": 4,
     "metadata": {},
     "output_type": "execute_result"
    }
   ],
   "source": [
    "f'{PATH}train.csv'"
   ]
  },
  {
   "cell_type": "code",
   "execution_count": 5,
   "metadata": {},
   "outputs": [],
   "source": [
    "# Get data hidden inside json columns out into separate columns \n",
    "# credit: julian3833 https://www.kaggle.com/julian3833/1-quick-start-read-csv-and-flatten-json-fields"
   ]
  },
  {
   "cell_type": "code",
   "execution_count": 6,
   "metadata": {},
   "outputs": [],
   "source": [
    "JSON_COLUMNS = ['device', 'geoNetwork', 'totals', 'trafficSource']"
   ]
  },
  {
   "cell_type": "code",
   "execution_count": 7,
   "metadata": {},
   "outputs": [],
   "source": [
    "import os\n",
    "import json\n",
    "import numpy as np\n",
    "import pandas as pd\n",
    "from pandas.io.json import json_normalize\n",
    "\n",
    "def load_df(csv_path=f'{PATH}train.csv', nrows=None):\n",
    "    JSON_COLUMNS = ['device', 'geoNetwork', 'totals', 'trafficSource']\n",
    "    \n",
    "    df = pd.read_csv(csv_path, \n",
    "                     converters={column: json.loads for column in JSON_COLUMNS}, \n",
    "                     dtype={'fullVisitorId': 'str'}, # Important!!\n",
    "                     nrows=nrows)\n",
    "    \n",
    "    for column in JSON_COLUMNS:\n",
    "        column_as_df = json_normalize(df[column])\n",
    "        column_as_df.columns = [f\"{column}.{subcolumn}\" for subcolumn in column_as_df.columns]\n",
    "        df = df.drop(column, axis=1).merge(column_as_df, right_index=True, left_index=True)\n",
    "    print(f\"Loaded {os.path.basename(csv_path)}. Shape: {df.shape}\")\n",
    "    return df"
   ]
  },
  {
   "cell_type": "code",
   "execution_count": 8,
   "metadata": {},
   "outputs": [],
   "source": [
    "# df = load_df()"
   ]
  },
  {
   "cell_type": "code",
   "execution_count": 9,
   "metadata": {
    "scrolled": false
   },
   "outputs": [
    {
     "name": "stdout",
     "output_type": "stream",
     "text": [
      "Loaded train.csv. Shape: (2000, 54)\n"
     ]
    }
   ],
   "source": [
    "df = load_df(nrows=2000)\n"
   ]
  },
  {
   "cell_type": "code",
   "execution_count": 11,
   "metadata": {},
   "outputs": [],
   "source": [
    "def add_datepart(df, fldname, drop=True, time=False):\n",
    "    \n",
    "    fld = df[fldname]\n",
    "    fld_dtype = fld.dtype\n",
    "\n",
    "    if isinstance(fld_dtype, pd.core.dtypes.dtypes.DatetimeTZDtype):\n",
    "        fld_dtype = np.datetime64\n",
    "\n",
    "    if not np.issubdtype(fld_dtype, np.datetime64):\n",
    "        df[fldname] = fld = pd.to_datetime(fld, infer_datetime_format=True)\n",
    "        \n",
    "    targ_pre = re.sub('[Dd]ate$', '', fldname)\n",
    "    attr = ['Year', 'Month', 'Week', 'Day', 'Dayofweek', 'Dayofyear',\n",
    "            'Is_month_end', 'Is_month_start', 'Is_quarter_end', 'Is_quarter_start', 'Is_year_end', 'Is_year_start']\n",
    "    if time: \n",
    "        attr = attr + ['Hour', 'Minute', 'Second']\n",
    "    for n in attr: \n",
    "        df[targ_pre + n] = getattr(fld.dt, n.lower())\n",
    "        \n",
    "    df[targ_pre + 'Elapsed'] = fld.astype(np.int64) // 10 ** 9\n",
    "    \n",
    "    if drop: \n",
    "        df.drop(fldname, axis=1, inplace=True)"
   ]
  },
  {
   "cell_type": "code",
   "execution_count": 12,
   "metadata": {},
   "outputs": [],
   "source": [
    "add_datepart(df, 'date')\n"
   ]
  },
  {
   "cell_type": "code",
   "execution_count": 13,
   "metadata": {},
   "outputs": [],
   "source": [
    "#Converting variables with string values into categories."
   ]
  },
  {
   "cell_type": "code",
   "execution_count": 14,
   "metadata": {},
   "outputs": [],
   "source": [
    "cat_vars = []\n",
    "for n,c in df.items():\n",
    "    if is_string_dtype(c): \n",
    "        cat_vars.append(n)\n",
    "        df[n] = c.astype('category').cat.as_ordered()\n"
   ]
  },
  {
   "cell_type": "code",
   "execution_count": 17,
   "metadata": {},
   "outputs": [],
   "source": [
    "# A quick look at the missing values"
   ]
  },
  {
   "cell_type": "code",
   "execution_count": 18,
   "metadata": {
    "scrolled": true
   },
   "outputs": [
    {
     "data": {
      "text/plain": [
       "Day                                                  0.0000\n",
       "Dayofweek                                            0.0000\n",
       "Dayofyear                                            0.0000\n",
       "Elapsed                                              0.0000\n",
       "Is_month_end                                         0.0000\n",
       "Is_month_start                                       0.0000\n",
       "Is_quarter_end                                       0.0000\n",
       "Is_quarter_start                                     0.0000\n",
       "Is_year_end                                          0.0000\n",
       "Is_year_start                                        0.0000\n",
       "Month                                                0.0000\n",
       "Week                                                 0.0000\n",
       "Year                                                 0.0000\n",
       "channelGrouping                                      0.0000\n",
       "device.browser                                       0.0000\n",
       "device.browserSize                                   0.0000\n",
       "device.browserVersion                                0.0000\n",
       "device.deviceCategory                                0.0000\n",
       "device.flashVersion                                  0.0000\n",
       "device.isMobile                                      0.0000\n",
       "device.language                                      0.0000\n",
       "device.mobileDeviceBranding                          0.0000\n",
       "device.mobileDeviceInfo                              0.0000\n",
       "device.mobileDeviceMarketingName                     0.0000\n",
       "device.mobileDeviceModel                             0.0000\n",
       "device.mobileInputSelector                           0.0000\n",
       "device.operatingSystem                               0.0000\n",
       "device.operatingSystemVersion                        0.0000\n",
       "device.screenColors                                  0.0000\n",
       "device.screenResolution                              0.0000\n",
       "                                                      ...  \n",
       "geoNetwork.longitude                                 0.0000\n",
       "geoNetwork.metro                                     0.0000\n",
       "geoNetwork.networkDomain                             0.0000\n",
       "geoNetwork.networkLocation                           0.0000\n",
       "geoNetwork.region                                    0.0000\n",
       "geoNetwork.subContinent                              0.0000\n",
       "sessionId                                            0.0000\n",
       "socialEngagementType                                 0.0000\n",
       "totals.bounces                                       0.5985\n",
       "totals.hits                                          0.0000\n",
       "totals.newVisits                                     0.2415\n",
       "totals.pageviews                                     0.0000\n",
       "totals.transactionRevenue                            0.9865\n",
       "totals.visits                                        0.0000\n",
       "trafficSource.adContent                              0.9970\n",
       "trafficSource.adwordsClickInfo.adNetworkType         0.9715\n",
       "trafficSource.adwordsClickInfo.criteriaParameters    0.0000\n",
       "trafficSource.adwordsClickInfo.gclId                 0.9710\n",
       "trafficSource.adwordsClickInfo.isVideoAd             0.9715\n",
       "trafficSource.adwordsClickInfo.page                  0.9715\n",
       "trafficSource.adwordsClickInfo.slot                  0.9715\n",
       "trafficSource.campaign                               0.0000\n",
       "trafficSource.isTrueDirect                           0.6765\n",
       "trafficSource.keyword                                0.5330\n",
       "trafficSource.medium                                 0.0000\n",
       "trafficSource.referralPath                           0.6750\n",
       "trafficSource.source                                 0.0000\n",
       "visitId                                              0.0000\n",
       "visitNumber                                          0.0000\n",
       "visitStartTime                                       0.0000\n",
       "Length: 66, dtype: float64"
      ]
     },
     "execution_count": 18,
     "metadata": {},
     "output_type": "execute_result"
    }
   ],
   "source": [
    "df.isnull().sum().sort_index()/len(df)"
   ]
  },
  {
   "cell_type": "code",
   "execution_count": 19,
   "metadata": {},
   "outputs": [],
   "source": [
    "# one-hot encoding categorical variables with cardinality <= 15."
   ]
  },
  {
   "cell_type": "code",
   "execution_count": 24,
   "metadata": {},
   "outputs": [],
   "source": [
    "def dummify(df, min_cardinality=0, max_cardinality=15):\n",
    "\n",
    "    to_dummify = []\n",
    "    \n",
    "    for n,c in df.items():\n",
    "        \n",
    "        if str(df.dtypes[n]) == 'category':\n",
    "            if ((len(df[n].cat.categories)) > min_cardinality) \\\n",
    "            & ((len(df[n].cat.categories)) <= max_cardinality):\n",
    "                to_dummify.append(n)\n",
    "                \n",
    "    dummified = pd.get_dummies(df[to_dummify], dummy_na=True)\n",
    "    dummified = pd.concat([dummified, df], axis=1)\n",
    "    dummified_df = dummified.drop(to_dummify, axis=1)\n",
    "    \n",
    "    return to_dummify, dummified_df"
   ]
  },
  {
   "cell_type": "code",
   "execution_count": 25,
   "metadata": {},
   "outputs": [
    {
     "name": "stdout",
     "output_type": "stream",
     "text": [
      "['channelGrouping', 'socialEngagementType', 'device.browser', 'device.browserSize', 'device.browserVersion', 'device.deviceCategory', 'device.flashVersion', 'device.language', 'device.mobileDeviceBranding', 'device.mobileDeviceInfo', 'device.mobileDeviceMarketingName', 'device.mobileDeviceModel', 'device.mobileInputSelector', 'device.operatingSystem', 'device.operatingSystemVersion', 'device.screenColors', 'device.screenResolution', 'geoNetwork.cityId', 'geoNetwork.continent', 'geoNetwork.latitude', 'geoNetwork.longitude', 'geoNetwork.metro', 'geoNetwork.networkLocation', 'totals.bounces', 'totals.newVisits', 'totals.visits', 'trafficSource.adContent', 'trafficSource.adwordsClickInfo.adNetworkType', 'trafficSource.adwordsClickInfo.criteriaParameters', 'trafficSource.adwordsClickInfo.isVideoAd', 'trafficSource.adwordsClickInfo.page', 'trafficSource.adwordsClickInfo.slot', 'trafficSource.campaign', 'trafficSource.isTrueDirect', 'trafficSource.medium']\n"
     ]
    }
   ],
   "source": [
    "dumd_vars, df = dummify(df)"
   ]
  },
  {
   "cell_type": "code",
   "execution_count": 33,
   "metadata": {},
   "outputs": [],
   "source": [
    "#These are the remaining, not dummified categorical variables.\n",
    "#Let's convert them to ints (otherwise sklearn's random forest is grumpy)\n",
    "\n",
    "remaining_cat_vars = (list(set(cat_vars) - set(dumd_vars))) \n",
    "\n",
    "for var in remaining_cat_vars:\n",
    "    df[var] = df[var].cat.codes"
   ]
  },
  {
   "cell_type": "code",
   "execution_count": 34,
   "metadata": {},
   "outputs": [
    {
     "data": {
      "text/plain": [
       "['channelGrouping_Affiliates',\n",
       " 'channelGrouping_Direct',\n",
       " 'channelGrouping_Display',\n",
       " 'channelGrouping_Organic Search',\n",
       " 'channelGrouping_Paid Search',\n",
       " 'channelGrouping_Referral',\n",
       " 'channelGrouping_Social',\n",
       " 'channelGrouping_nan',\n",
       " 'socialEngagementType_Not Socially Engaged',\n",
       " 'socialEngagementType_nan',\n",
       " 'device.browser_ADM',\n",
       " 'device.browser_BlackBerry',\n",
       " 'device.browser_Chrome',\n",
       " 'device.browser_Coc Coc',\n",
       " 'device.browser_Edge',\n",
       " 'device.browser_Firefox',\n",
       " 'device.browser_Internet Explorer',\n",
       " 'device.browser_Mozilla Compatible Agent',\n",
       " 'device.browser_Opera',\n",
       " 'device.browser_Opera Mini',\n",
       " 'device.browser_Safari',\n",
       " 'device.browser_Safari (in-app)',\n",
       " 'device.browser_UC Browser',\n",
       " 'device.browser_nan',\n",
       " 'device.browserSize_not available in demo dataset',\n",
       " 'device.browserSize_nan',\n",
       " 'device.browserVersion_not available in demo dataset',\n",
       " 'device.browserVersion_nan',\n",
       " 'device.deviceCategory_desktop',\n",
       " 'device.deviceCategory_mobile',\n",
       " 'device.deviceCategory_tablet',\n",
       " 'device.deviceCategory_nan',\n",
       " 'device.flashVersion_not available in demo dataset',\n",
       " 'device.flashVersion_nan',\n",
       " 'device.language_not available in demo dataset',\n",
       " 'device.language_nan',\n",
       " 'device.mobileDeviceBranding_not available in demo dataset',\n",
       " 'device.mobileDeviceBranding_nan',\n",
       " 'device.mobileDeviceInfo_not available in demo dataset',\n",
       " 'device.mobileDeviceInfo_nan',\n",
       " 'device.mobileDeviceMarketingName_not available in demo dataset',\n",
       " 'device.mobileDeviceMarketingName_nan',\n",
       " 'device.mobileDeviceModel_not available in demo dataset',\n",
       " 'device.mobileDeviceModel_nan',\n",
       " 'device.mobileInputSelector_not available in demo dataset',\n",
       " 'device.mobileInputSelector_nan',\n",
       " 'device.operatingSystem_(not set)',\n",
       " 'device.operatingSystem_Android',\n",
       " 'device.operatingSystem_BlackBerry',\n",
       " 'device.operatingSystem_Chrome OS',\n",
       " 'device.operatingSystem_Linux',\n",
       " 'device.operatingSystem_Macintosh',\n",
       " 'device.operatingSystem_Windows',\n",
       " 'device.operatingSystem_iOS',\n",
       " 'device.operatingSystem_nan',\n",
       " 'device.operatingSystemVersion_not available in demo dataset',\n",
       " 'device.operatingSystemVersion_nan',\n",
       " 'device.screenColors_not available in demo dataset',\n",
       " 'device.screenColors_nan',\n",
       " 'device.screenResolution_not available in demo dataset',\n",
       " 'device.screenResolution_nan',\n",
       " 'geoNetwork.cityId_not available in demo dataset',\n",
       " 'geoNetwork.cityId_nan',\n",
       " 'geoNetwork.continent_(not set)',\n",
       " 'geoNetwork.continent_Africa',\n",
       " 'geoNetwork.continent_Americas',\n",
       " 'geoNetwork.continent_Asia',\n",
       " 'geoNetwork.continent_Europe',\n",
       " 'geoNetwork.continent_Oceania',\n",
       " 'geoNetwork.continent_nan',\n",
       " 'geoNetwork.latitude_not available in demo dataset',\n",
       " 'geoNetwork.latitude_nan',\n",
       " 'geoNetwork.longitude_not available in demo dataset',\n",
       " 'geoNetwork.longitude_nan',\n",
       " 'geoNetwork.metro_(not set)',\n",
       " 'geoNetwork.metro_Austin TX',\n",
       " 'geoNetwork.metro_Boston MA-Manchester NH',\n",
       " 'geoNetwork.metro_Chicago IL',\n",
       " 'geoNetwork.metro_Detroit MI',\n",
       " 'geoNetwork.metro_London',\n",
       " 'geoNetwork.metro_Los Angeles CA',\n",
       " 'geoNetwork.metro_New York NY',\n",
       " 'geoNetwork.metro_Pittsburgh PA',\n",
       " 'geoNetwork.metro_Roanoke-Lynchburg VA',\n",
       " 'geoNetwork.metro_San Francisco-Oakland-San Jose CA',\n",
       " 'geoNetwork.metro_Seattle-Tacoma WA',\n",
       " 'geoNetwork.metro_Washington DC (Hagerstown MD)',\n",
       " 'geoNetwork.metro_not available in demo dataset',\n",
       " 'geoNetwork.metro_nan',\n",
       " 'geoNetwork.networkLocation_not available in demo dataset',\n",
       " 'geoNetwork.networkLocation_nan',\n",
       " 'totals.bounces_1',\n",
       " 'totals.bounces_nan',\n",
       " 'totals.newVisits_1',\n",
       " 'totals.newVisits_nan',\n",
       " 'totals.visits_1',\n",
       " 'totals.visits_nan',\n",
       " 'trafficSource.adContent_First Full Auto Template Test Ad',\n",
       " 'trafficSource.adContent_Full auto ad IMAGE ONLY',\n",
       " 'trafficSource.adContent_{KeyWord:Google Brand Items}',\n",
       " 'trafficSource.adContent_nan',\n",
       " 'trafficSource.adwordsClickInfo.adNetworkType_Google Search',\n",
       " 'trafficSource.adwordsClickInfo.adNetworkType_nan',\n",
       " 'trafficSource.adwordsClickInfo.criteriaParameters_not available in demo dataset',\n",
       " 'trafficSource.adwordsClickInfo.criteriaParameters_nan',\n",
       " 'trafficSource.adwordsClickInfo.isVideoAd_False',\n",
       " 'trafficSource.adwordsClickInfo.isVideoAd_nan',\n",
       " 'trafficSource.adwordsClickInfo.page_1',\n",
       " 'trafficSource.adwordsClickInfo.page_nan',\n",
       " 'trafficSource.adwordsClickInfo.slot_Top',\n",
       " 'trafficSource.adwordsClickInfo.slot_nan',\n",
       " 'trafficSource.campaign_(not set)',\n",
       " 'trafficSource.campaign_AW - Dynamic Search Ads Whole Site',\n",
       " 'trafficSource.campaign_AW - Electronics',\n",
       " 'trafficSource.campaign_Data Share Promo',\n",
       " 'trafficSource.campaign_nan',\n",
       " 'trafficSource.isTrueDirect_True',\n",
       " 'trafficSource.isTrueDirect_nan',\n",
       " 'trafficSource.medium_(none)',\n",
       " 'trafficSource.medium_affiliate',\n",
       " 'trafficSource.medium_cpc',\n",
       " 'trafficSource.medium_cpm',\n",
       " 'trafficSource.medium_organic',\n",
       " 'trafficSource.medium_referral',\n",
       " 'trafficSource.medium_nan',\n",
       " 'fullVisitorId',\n",
       " 'sessionId',\n",
       " 'visitId',\n",
       " 'visitNumber',\n",
       " 'visitStartTime',\n",
       " 'device.isMobile',\n",
       " 'geoNetwork.city',\n",
       " 'geoNetwork.country',\n",
       " 'geoNetwork.networkDomain',\n",
       " 'geoNetwork.region',\n",
       " 'geoNetwork.subContinent',\n",
       " 'totals.hits',\n",
       " 'totals.pageviews',\n",
       " 'totals.transactionRevenue',\n",
       " 'trafficSource.adwordsClickInfo.gclId',\n",
       " 'trafficSource.keyword',\n",
       " 'trafficSource.referralPath',\n",
       " 'trafficSource.source',\n",
       " 'Year',\n",
       " 'Month',\n",
       " 'Week',\n",
       " 'Day',\n",
       " 'Dayofweek',\n",
       " 'Dayofyear',\n",
       " 'Is_month_end',\n",
       " 'Is_month_start',\n",
       " 'Is_quarter_end',\n",
       " 'Is_quarter_start',\n",
       " 'Is_year_end',\n",
       " 'Is_year_start',\n",
       " 'Elapsed']"
      ]
     },
     "execution_count": 34,
     "metadata": {},
     "output_type": "execute_result"
    }
   ],
   "source": [
    "#this is the final list of our columns\n",
    "[col for col in df.columns]"
   ]
  },
  {
   "cell_type": "code",
   "execution_count": null,
   "metadata": {},
   "outputs": [],
   "source": [
    "Use the last 3 months of the training set as validation"
   ]
  },
  {
   "cell_type": "code",
   "execution_count": 36,
   "metadata": {},
   "outputs": [
    {
     "ename": "AttributeError",
     "evalue": "'DataFrame' object has no attribute 'year'",
     "output_type": "error",
     "traceback": [
      "\u001b[0;31m---------------------------------------------------------------------------\u001b[0m",
      "\u001b[0;31mAttributeError\u001b[0m                            Traceback (most recent call last)",
      "\u001b[0;32m<ipython-input-36-165d1922d6ef>\u001b[0m in \u001b[0;36m<module>\u001b[0;34m\u001b[0m\n\u001b[0;32m----> 1\u001b[0;31m \u001b[0mdf\u001b[0m\u001b[0;34m.\u001b[0m\u001b[0myear\u001b[0m\u001b[0;34m\u001b[0m\u001b[0m\n\u001b[0m",
      "\u001b[0;32m~/.conda/envs/fastai/lib/python3.6/site-packages/pandas/core/generic.py\u001b[0m in \u001b[0;36m__getattr__\u001b[0;34m(self, name)\u001b[0m\n\u001b[1;32m   4374\u001b[0m             \u001b[0;32mif\u001b[0m \u001b[0mself\u001b[0m\u001b[0;34m.\u001b[0m\u001b[0m_info_axis\u001b[0m\u001b[0;34m.\u001b[0m\u001b[0m_can_hold_identifiers_and_holds_name\u001b[0m\u001b[0;34m(\u001b[0m\u001b[0mname\u001b[0m\u001b[0;34m)\u001b[0m\u001b[0;34m:\u001b[0m\u001b[0;34m\u001b[0m\u001b[0m\n\u001b[1;32m   4375\u001b[0m                 \u001b[0;32mreturn\u001b[0m \u001b[0mself\u001b[0m\u001b[0;34m[\u001b[0m\u001b[0mname\u001b[0m\u001b[0;34m]\u001b[0m\u001b[0;34m\u001b[0m\u001b[0m\n\u001b[0;32m-> 4376\u001b[0;31m             \u001b[0;32mreturn\u001b[0m \u001b[0mobject\u001b[0m\u001b[0;34m.\u001b[0m\u001b[0m__getattribute__\u001b[0m\u001b[0;34m(\u001b[0m\u001b[0mself\u001b[0m\u001b[0;34m,\u001b[0m \u001b[0mname\u001b[0m\u001b[0;34m)\u001b[0m\u001b[0;34m\u001b[0m\u001b[0m\n\u001b[0m\u001b[1;32m   4377\u001b[0m \u001b[0;34m\u001b[0m\u001b[0m\n\u001b[1;32m   4378\u001b[0m     \u001b[0;32mdef\u001b[0m \u001b[0m__setattr__\u001b[0m\u001b[0;34m(\u001b[0m\u001b[0mself\u001b[0m\u001b[0;34m,\u001b[0m \u001b[0mname\u001b[0m\u001b[0;34m,\u001b[0m \u001b[0mvalue\u001b[0m\u001b[0;34m)\u001b[0m\u001b[0;34m:\u001b[0m\u001b[0;34m\u001b[0m\u001b[0m\n",
      "\u001b[0;31mAttributeError\u001b[0m: 'DataFrame' object has no attribute 'year'"
     ]
    }
   ],
   "source": [
    "df.year"
   ]
  },
  {
   "cell_type": "code",
   "execution_count": null,
   "metadata": {},
   "outputs": [],
   "source": [
    "df, y = "
   ]
  },
  {
   "cell_type": "code",
   "execution_count": 37,
   "metadata": {},
   "outputs": [
    {
     "data": {
      "text/plain": [
       "0       0\n",
       "1       0\n",
       "2       0\n",
       "3       0\n",
       "4       0\n",
       "5       0\n",
       "6       0\n",
       "7       0\n",
       "8       0\n",
       "9       0\n",
       "10      0\n",
       "11      0\n",
       "12      0\n",
       "13      0\n",
       "14      0\n",
       "15      0\n",
       "16      0\n",
       "17      0\n",
       "18      0\n",
       "19      0\n",
       "20      0\n",
       "21      0\n",
       "22      0\n",
       "23      0\n",
       "24      0\n",
       "25      0\n",
       "26      0\n",
       "27      0\n",
       "28      0\n",
       "29      0\n",
       "       ..\n",
       "1970    0\n",
       "1971    0\n",
       "1972    0\n",
       "1973    0\n",
       "1974    0\n",
       "1975    0\n",
       "1976    0\n",
       "1977    0\n",
       "1978    0\n",
       "1979    0\n",
       "1980    0\n",
       "1981    0\n",
       "1982    0\n",
       "1983    0\n",
       "1984    0\n",
       "1985    0\n",
       "1986    0\n",
       "1987    0\n",
       "1988    0\n",
       "1989    0\n",
       "1990    0\n",
       "1991    0\n",
       "1992    0\n",
       "1993    0\n",
       "1994    0\n",
       "1995    0\n",
       "1996    0\n",
       "1997    0\n",
       "1998    0\n",
       "1999    0\n",
       "Name: Elapsed, Length: 2000, dtype: int64"
      ]
     },
     "execution_count": 37,
     "metadata": {},
     "output_type": "execute_result"
    }
   ],
   "source": [
    "df.Elapsed"
   ]
  },
  {
   "cell_type": "code",
   "execution_count": null,
   "metadata": {},
   "outputs": [],
   "source": []
  }
 ],
 "metadata": {
  "kernelspec": {
   "display_name": "Python [conda env:fastai]",
   "language": "python",
   "name": "conda-env-fastai-py"
  },
  "language_info": {
   "codemirror_mode": {
    "name": "ipython",
    "version": 3
   },
   "file_extension": ".py",
   "mimetype": "text/x-python",
   "name": "python",
   "nbconvert_exporter": "python",
   "pygments_lexer": "ipython3",
   "version": "3.6.6"
  }
 },
 "nbformat": 4,
 "nbformat_minor": 2
}
