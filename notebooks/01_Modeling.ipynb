{
 "cells": [
  {
   "cell_type": "code",
   "execution_count": 1,
   "metadata": {},
   "outputs": [],
   "source": [
    "import pandas as pd\n",
    "import numpy as np\n",
    "import os\n",
    "import json\n",
    "\n",
    "from sklearn.linear_model import LinearRegression\n",
    "from sklearn.ensemble import RandomForestRegressor\n",
    "import lightgbm as lgb\n",
    "import gc"
   ]
  },
  {
   "cell_type": "code",
   "execution_count": 2,
   "metadata": {},
   "outputs": [],
   "source": [
    "def set_rf_samples(n):\n",
    "    \"\"\" Changes Scikit learn's random forests to give each tree a random sample of\n",
    "    n random rows.\n",
    "    \"\"\"\n",
    "    forest._generate_sample_indices = (lambda rs, n_samples:\n",
    "        forest.check_random_state(rs).randint(0, n_samples, n))\n",
    "\n",
    "def reset_rf_samples():\n",
    "    \"\"\" Undoes the changes produced by set_rf_samples.\n",
    "    \"\"\"\n",
    "    forest._generate_sample_indices = (lambda rs, n_samples:\n",
    "        forest.check_random_state(rs).randint(0, n_samples, n_samples))"
   ]
  },
  {
   "cell_type": "code",
   "execution_count": 3,
   "metadata": {},
   "outputs": [],
   "source": [
    "PATH = '../data/'"
   ]
  },
  {
   "cell_type": "markdown",
   "metadata": {},
   "source": [
    "# Load the data"
   ]
  },
  {
   "cell_type": "code",
   "execution_count": 4,
   "metadata": {},
   "outputs": [
    {
     "data": {
      "text/plain": [
       "'../data/preprocessed_df.csv'"
      ]
     },
     "execution_count": 4,
     "metadata": {},
     "output_type": "execute_result"
    }
   ],
   "source": [
    "'../data/preprocessed_df.csv'"
   ]
  },
  {
   "cell_type": "code",
   "execution_count": 5,
   "metadata": {},
   "outputs": [],
   "source": [
    "nrows = None\n",
    "# nrows = 2000"
   ]
  },
  {
   "cell_type": "code",
   "execution_count": 6,
   "metadata": {},
   "outputs": [],
   "source": [
    "df = pd.read_hdf(f'{PATH}'+\"preprocessed_df.hdf\")"
   ]
  },
  {
   "cell_type": "markdown",
   "metadata": {},
   "source": [
    "# Implement the loss function"
   ]
  },
  {
   "cell_type": "code",
   "execution_count": 7,
   "metadata": {},
   "outputs": [],
   "source": [
    "def rmse(y_pred, y):\n",
    "    y_pred, y = np.array(y_pred), np.array(y)\n",
    "    return np.sqrt(np.mean((y_pred - y)**2))"
   ]
  },
  {
   "cell_type": "markdown",
   "metadata": {},
   "source": [
    "# Make train & validation sets"
   ]
  },
  {
   "cell_type": "code",
   "execution_count": 12,
   "metadata": {},
   "outputs": [
    {
     "data": {
      "text/plain": [
       "['channelGrouping_(Other)',\n",
       " 'channelGrouping_Affiliates',\n",
       " 'channelGrouping_Direct',\n",
       " 'channelGrouping_Display',\n",
       " 'channelGrouping_Organic Search',\n",
       " 'channelGrouping_Paid Search',\n",
       " 'channelGrouping_Referral',\n",
       " 'channelGrouping_Social',\n",
       " 'channelGrouping_nan',\n",
       " 'socialEngagementType_Not Socially Engaged',\n",
       " 'socialEngagementType_nan',\n",
       " 'device.browserSize_not available in demo dataset',\n",
       " 'device.browserSize_nan',\n",
       " 'device.browserVersion_not available in demo dataset',\n",
       " 'device.browserVersion_nan',\n",
       " 'device.deviceCategory_desktop',\n",
       " 'device.deviceCategory_mobile',\n",
       " 'device.deviceCategory_tablet',\n",
       " 'device.deviceCategory_nan',\n",
       " 'device.flashVersion_not available in demo dataset',\n",
       " 'device.flashVersion_nan',\n",
       " 'device.language_not available in demo dataset',\n",
       " 'device.language_nan',\n",
       " 'device.mobileDeviceBranding_not available in demo dataset',\n",
       " 'device.mobileDeviceBranding_nan',\n",
       " 'device.mobileDeviceInfo_not available in demo dataset',\n",
       " 'device.mobileDeviceInfo_nan',\n",
       " 'device.mobileDeviceMarketingName_not available in demo dataset',\n",
       " 'device.mobileDeviceMarketingName_nan',\n",
       " 'device.mobileDeviceModel_not available in demo dataset',\n",
       " 'device.mobileDeviceModel_nan',\n",
       " 'device.mobileInputSelector_not available in demo dataset',\n",
       " 'device.mobileInputSelector_nan',\n",
       " 'device.operatingSystemVersion_not available in demo dataset',\n",
       " 'device.operatingSystemVersion_nan',\n",
       " 'device.screenColors_not available in demo dataset',\n",
       " 'device.screenColors_nan',\n",
       " 'device.screenResolution_not available in demo dataset',\n",
       " 'device.screenResolution_nan',\n",
       " 'geoNetwork.cityId_not available in demo dataset',\n",
       " 'geoNetwork.cityId_nan',\n",
       " 'geoNetwork.continent_(not set)',\n",
       " 'geoNetwork.continent_Africa',\n",
       " 'geoNetwork.continent_Americas',\n",
       " 'geoNetwork.continent_Asia',\n",
       " 'geoNetwork.continent_Europe',\n",
       " 'geoNetwork.continent_Oceania',\n",
       " 'geoNetwork.continent_nan',\n",
       " 'geoNetwork.latitude_not available in demo dataset',\n",
       " 'geoNetwork.latitude_nan',\n",
       " 'geoNetwork.longitude_not available in demo dataset',\n",
       " 'geoNetwork.longitude_nan',\n",
       " 'geoNetwork.networkLocation_not available in demo dataset',\n",
       " 'geoNetwork.networkLocation_nan',\n",
       " 'totals.bounces_1',\n",
       " 'totals.bounces_-1',\n",
       " 'totals.bounces_nan',\n",
       " 'totals.newVisits_1',\n",
       " 'totals.newVisits_-1',\n",
       " 'totals.newVisits_nan',\n",
       " 'totals.visits_1',\n",
       " 'totals.visits_nan',\n",
       " 'trafficSource.adwordsClickInfo.adNetworkType_Google Search',\n",
       " 'trafficSource.adwordsClickInfo.adNetworkType_Search partners',\n",
       " 'trafficSource.adwordsClickInfo.adNetworkType_-1',\n",
       " 'trafficSource.adwordsClickInfo.adNetworkType_nan',\n",
       " 'trafficSource.adwordsClickInfo.criteriaParameters_not available in demo dataset',\n",
       " 'trafficSource.adwordsClickInfo.criteriaParameters_nan',\n",
       " 'trafficSource.adwordsClickInfo.isVideoAd_False',\n",
       " 'trafficSource.adwordsClickInfo.isVideoAd_-1',\n",
       " 'trafficSource.adwordsClickInfo.isVideoAd_nan',\n",
       " 'trafficSource.adwordsClickInfo.page_1',\n",
       " 'trafficSource.adwordsClickInfo.page_14',\n",
       " 'trafficSource.adwordsClickInfo.page_2',\n",
       " 'trafficSource.adwordsClickInfo.page_3',\n",
       " 'trafficSource.adwordsClickInfo.page_4',\n",
       " 'trafficSource.adwordsClickInfo.page_5',\n",
       " 'trafficSource.adwordsClickInfo.page_7',\n",
       " 'trafficSource.adwordsClickInfo.page_9',\n",
       " 'trafficSource.adwordsClickInfo.page_-1',\n",
       " 'trafficSource.adwordsClickInfo.page_nan',\n",
       " 'trafficSource.adwordsClickInfo.slot_RHS',\n",
       " 'trafficSource.adwordsClickInfo.slot_Top',\n",
       " 'trafficSource.adwordsClickInfo.slot_-1',\n",
       " 'trafficSource.adwordsClickInfo.slot_nan',\n",
       " 'trafficSource.campaign_(not set)',\n",
       " 'trafficSource.campaign_AW - Accessories',\n",
       " 'trafficSource.campaign_AW - Apparel',\n",
       " 'trafficSource.campaign_AW - Dynamic Search Ads Whole Site',\n",
       " 'trafficSource.campaign_AW - Electronics',\n",
       " 'trafficSource.campaign_All Products',\n",
       " 'trafficSource.campaign_Data Share',\n",
       " 'trafficSource.campaign_Data Share Promo',\n",
       " 'trafficSource.campaign_Retail (DO NOT EDIT owners nophakun and tianyu)',\n",
       " 'trafficSource.campaign_test-liyuhz',\n",
       " 'trafficSource.campaign_nan',\n",
       " 'trafficSource.campaignCode_11251kjhkvahf',\n",
       " 'trafficSource.campaignCode_-1',\n",
       " 'trafficSource.campaignCode_nan',\n",
       " 'trafficSource.isTrueDirect_True',\n",
       " 'trafficSource.isTrueDirect_-1',\n",
       " 'trafficSource.isTrueDirect_nan',\n",
       " 'trafficSource.medium_(none)',\n",
       " 'trafficSource.medium_(not set)',\n",
       " 'trafficSource.medium_affiliate',\n",
       " 'trafficSource.medium_cpc',\n",
       " 'trafficSource.medium_cpm',\n",
       " 'trafficSource.medium_organic',\n",
       " 'trafficSource.medium_referral',\n",
       " 'trafficSource.medium_nan',\n",
       " 'date',\n",
       " 'fullVisitorId',\n",
       " 'sessionId',\n",
       " 'visitId',\n",
       " 'visitNumber',\n",
       " 'visitStartTime',\n",
       " 'device.browser',\n",
       " 'device.isMobile',\n",
       " 'device.operatingSystem',\n",
       " 'geoNetwork.city',\n",
       " 'geoNetwork.country',\n",
       " 'geoNetwork.metro',\n",
       " 'geoNetwork.networkDomain',\n",
       " 'geoNetwork.region',\n",
       " 'geoNetwork.subContinent',\n",
       " 'totals.hits',\n",
       " 'totals.pageviews',\n",
       " 'totals.transactionRevenue',\n",
       " 'trafficSource.adContent',\n",
       " 'trafficSource.adwordsClickInfo.gclId',\n",
       " 'trafficSource.keyword',\n",
       " 'trafficSource.referralPath',\n",
       " 'trafficSource.source',\n",
       " 'totals.bounces_na',\n",
       " 'totals.newVisits_na',\n",
       " 'totals.pageviews_na',\n",
       " 'trafficSource.adContent_na',\n",
       " 'trafficSource.adwordsClickInfo.adNetworkType_na',\n",
       " 'trafficSource.adwordsClickInfo.gclId_na',\n",
       " 'trafficSource.adwordsClickInfo.isVideoAd_na',\n",
       " 'trafficSource.adwordsClickInfo.page_na',\n",
       " 'trafficSource.adwordsClickInfo.slot_na',\n",
       " 'trafficSource.campaignCode_na',\n",
       " 'trafficSource.isTrueDirect_na',\n",
       " 'trafficSource.keyword_na',\n",
       " 'trafficSource.referralPath_na']"
      ]
     },
     "execution_count": 12,
     "metadata": {},
     "output_type": "execute_result"
    }
   ],
   "source": [
    "[col for col in df.columns]"
   ]
  },
  {
   "cell_type": "code",
   "execution_count": 13,
   "metadata": {
    "scrolled": true
   },
   "outputs": [
    {
     "name": "stdout",
     "output_type": "stream",
     "text": [
      "df_train date span: 20160801 - 20170430\n",
      "df_val date span:   20170501 - 20170801\n",
      "\n",
      "\n",
      "train_y (700336,)\n",
      "train_x (700336, 144)\n",
      "--------------------\n",
      "val_y   (203317,)\n",
      "val_x   (203317, 144)\n",
      "\n"
     ]
    }
   ],
   "source": [
    "# Making a validation set out of the last 3 months of data available\n",
    "# df.date.min(), df.date.max()\n",
    "# df_train = df[df.date < pd.datetime(2017, 5, 1)].copy()\n",
    "# df_val = df[df.date >= pd.datetime(2017, 5, 1)].copy()\n",
    "\n",
    "df_train = df[df.date < 20170501].copy()\n",
    "df_val = df[df.date >= 20170501].copy()\n",
    "\n",
    "print(\"df_train date span: {} - {}\".format(df_train.date.min(), df_train.date.max()))\n",
    "\n",
    "print(\"df_val date span:   {} - {}\".format(df_val.date.min(), df_val.date.max()))\n",
    "print('\\n')\n",
    "\n",
    "df_train.drop(\"date\",axis=1,inplace=True)\n",
    "df_val.drop(\"date\",axis=1,inplace=True)\n",
    "\n",
    "train_y = df_train[\"totals.transactionRevenue\"]\n",
    "train_x = df_train.drop([\"totals.transactionRevenue\", \n",
    "                         ], axis=1)\n",
    "\n",
    "val_y = df_val[\"totals.transactionRevenue\"]\n",
    "val_x = df_val.drop([\"totals.transactionRevenue\", \n",
    "                         ],axis=1)\n",
    "\n",
    "\n",
    "print(\"train_y {}\\n\\\n",
    "train_x {}\\n\\\n",
    "--------------------\\n\\\n",
    "val_y   {}\\n\\\n",
    "val_x   {}\\n\".format(train_y.shape, train_x.shape, val_y.shape, val_x.shape))\n"
   ]
  },
  {
   "cell_type": "code",
   "execution_count": 14,
   "metadata": {},
   "outputs": [
    {
     "data": {
      "text/plain": [
       "count    203317.000000\n",
       "mean          0.273481\n",
       "std           2.190162\n",
       "min           0.000000\n",
       "25%           0.000000\n",
       "50%           0.000000\n",
       "75%           0.000000\n",
       "max          23.083095\n",
       "Name: totals.transactionRevenue, dtype: float64"
      ]
     },
     "execution_count": 14,
     "metadata": {},
     "output_type": "execute_result"
    }
   ],
   "source": [
    "df_val[\"totals.transactionRevenue\"].describe()"
   ]
  },
  {
   "cell_type": "code",
   "execution_count": 15,
   "metadata": {},
   "outputs": [
    {
     "data": {
      "text/plain": [
       "0.0"
      ]
     },
     "execution_count": 15,
     "metadata": {},
     "output_type": "execute_result"
    }
   ],
   "source": [
    "df_val[\"totals.transactionRevenue\"][df_val[\"totals.transactionRevenue\"] == 8.581669].count() / len(df_val[\"totals.transactionRevenue\"])"
   ]
  },
  {
   "cell_type": "code",
   "execution_count": 16,
   "metadata": {},
   "outputs": [
    {
     "data": {
      "text/plain": [
       "54"
      ]
     },
     "execution_count": 16,
     "metadata": {},
     "output_type": "execute_result"
    }
   ],
   "source": [
    "del df, df_train, df_val\n",
    "gc.collect()"
   ]
  },
  {
   "cell_type": "code",
   "execution_count": 17,
   "metadata": {},
   "outputs": [
    {
     "data": {
      "text/plain": [
       "count    203317.000000\n",
       "mean          0.273481\n",
       "std           2.190162\n",
       "min           0.000000\n",
       "25%           0.000000\n",
       "50%           0.000000\n",
       "75%           0.000000\n",
       "max          23.083095\n",
       "Name: totals.transactionRevenue, dtype: float64"
      ]
     },
     "execution_count": 17,
     "metadata": {},
     "output_type": "execute_result"
    }
   ],
   "source": [
    "val_y.describe()"
   ]
  },
  {
   "cell_type": "code",
   "execution_count": 18,
   "metadata": {},
   "outputs": [],
   "source": [
    "# Run a linear model"
   ]
  },
  {
   "cell_type": "code",
   "execution_count": 19,
   "metadata": {},
   "outputs": [
    {
     "data": {
      "text/plain": [
       "LinearRegression(copy_X=True, fit_intercept=True, n_jobs=None,\n",
       "         normalize=False)"
      ]
     },
     "execution_count": 19,
     "metadata": {},
     "output_type": "execute_result"
    }
   ],
   "source": [
    "model = LinearRegression()\n",
    "model.fit(train_x, train_y)"
   ]
  },
  {
   "cell_type": "code",
   "execution_count": 20,
   "metadata": {},
   "outputs": [
    {
     "data": {
      "text/plain": [
       "0.04852775085479066"
      ]
     },
     "execution_count": 20,
     "metadata": {},
     "output_type": "execute_result"
    }
   ],
   "source": [
    "model.score(val_x, val_y)"
   ]
  },
  {
   "cell_type": "code",
   "execution_count": 21,
   "metadata": {},
   "outputs": [],
   "source": [
    "# Run a baseline Random Forest model on a subset of data "
   ]
  },
  {
   "cell_type": "code",
   "execution_count": 46,
   "metadata": {},
   "outputs": [
    {
     "data": {
      "text/plain": [
       "RandomForestRegressor(bootstrap=True, criterion='mse', max_depth=None,\n",
       "           max_features='auto', max_leaf_nodes=None,\n",
       "           min_impurity_decrease=0.0, min_impurity_split=None,\n",
       "           min_samples_leaf=20, min_samples_split=2,\n",
       "           min_weight_fraction_leaf=0.0, n_estimators=100, n_jobs=None,\n",
       "           oob_score=False, random_state=None, verbose=0, warm_start=False)"
      ]
     },
     "execution_count": 46,
     "metadata": {},
     "output_type": "execute_result"
    }
   ],
   "source": [
    "model = RandomForestRegressor(n_estimators = 100, min_samples_leaf=20, oob_score=False)\n",
    "model.fit(train_x, train_y)\n"
   ]
  },
  {
   "cell_type": "code",
   "execution_count": 23,
   "metadata": {},
   "outputs": [],
   "source": [
    "def rmse(x,y): return math.sqrt(((x-y)**2).mean())\n"
   ]
  },
  {
   "cell_type": "code",
   "execution_count": 24,
   "metadata": {},
   "outputs": [
    {
     "data": {
      "text/plain": [
       "(700336, 144)"
      ]
     },
     "execution_count": 24,
     "metadata": {},
     "output_type": "execute_result"
    }
   ],
   "source": [
    "train_x.shape"
   ]
  },
  {
   "cell_type": "code",
   "execution_count": 25,
   "metadata": {},
   "outputs": [
    {
     "data": {
      "text/plain": [
       "(700336, 1)"
      ]
     },
     "execution_count": 25,
     "metadata": {},
     "output_type": "execute_result"
    }
   ],
   "source": [
    "train_y[:,None].shape"
   ]
  },
  {
   "cell_type": "code",
   "execution_count": 26,
   "metadata": {},
   "outputs": [
    {
     "data": {
      "text/plain": [
       "(203317, 144)"
      ]
     },
     "execution_count": 26,
     "metadata": {},
     "output_type": "execute_result"
    }
   ],
   "source": [
    "val_x.shape"
   ]
  },
  {
   "cell_type": "code",
   "execution_count": 27,
   "metadata": {},
   "outputs": [
    {
     "data": {
      "text/plain": [
       "(203317,)"
      ]
     },
     "execution_count": 27,
     "metadata": {},
     "output_type": "execute_result"
    }
   ],
   "source": [
    "val_y.shape"
   ]
  },
  {
   "cell_type": "code",
   "execution_count": 30,
   "metadata": {},
   "outputs": [],
   "source": [
    "import math"
   ]
  },
  {
   "cell_type": "code",
   "execution_count": 41,
   "metadata": {},
   "outputs": [],
   "source": [
    "def print_score(model=model):\n",
    "    \n",
    "    scores = {\"train_rsquare\":  model.score(train_x, train_y), \n",
    "                \"val_rsquare\": model.score(val_x, val_y),\n",
    "                \"train_rmse\": rmse(model.predict(train_x), train_y),\n",
    "                \"val_rmse\": rmse(model.predict(val_x), val_y)}\n",
    "    \n",
    "    print(scores)\n",
    "    return \n",
    "    "
   ]
  },
  {
   "cell_type": "code",
   "execution_count": 45,
   "metadata": {
    "scrolled": false
   },
   "outputs": [
    {
     "name": "stdout",
     "output_type": "stream",
     "text": [
      "{'train_rsquare': 0.3136312622647459, 'val_rsquare': 0.21400109925165, 'train_rmse': 1.6122361900703697, 'val_rmse': 1.9417179851794746}\n"
     ]
    }
   ],
   "source": [
    "print_score(model)"
   ]
  },
  {
   "cell_type": "code",
   "execution_count": 43,
   "metadata": {
    "scrolled": true
   },
   "outputs": [
    {
     "data": {
      "text/plain": [
       "0.06706374953607497"
      ]
     },
     "execution_count": 43,
     "metadata": {},
     "output_type": "execute_result"
    }
   ],
   "source": [
    "model.oob_score_"
   ]
  },
  {
   "cell_type": "code",
   "execution_count": 34,
   "metadata": {},
   "outputs": [],
   "source": [
    "def rf_feat_importance(m, df):\n",
    "    return pd.DataFrame({'cols':df.columns, 'imp':m.feature_importances_}\n",
    "                       ).sort_values('imp', ascending=False)\n"
   ]
  },
  {
   "cell_type": "code",
   "execution_count": 35,
   "metadata": {},
   "outputs": [
    {
     "data": {
      "text/plain": [
       "144"
      ]
     },
     "execution_count": 35,
     "metadata": {},
     "output_type": "execute_result"
    }
   ],
   "source": [
    "len(train_x.columns)"
   ]
  },
  {
   "cell_type": "code",
   "execution_count": 36,
   "metadata": {},
   "outputs": [
    {
     "data": {
      "text/plain": [
       "144"
      ]
     },
     "execution_count": 36,
     "metadata": {},
     "output_type": "execute_result"
    }
   ],
   "source": [
    "len(model.feature_importances_)"
   ]
  },
  {
   "cell_type": "code",
   "execution_count": 37,
   "metadata": {
    "scrolled": true
   },
   "outputs": [
    {
     "data": {
      "text/html": [
       "<div>\n",
       "<style scoped>\n",
       "    .dataframe tbody tr th:only-of-type {\n",
       "        vertical-align: middle;\n",
       "    }\n",
       "\n",
       "    .dataframe tbody tr th {\n",
       "        vertical-align: top;\n",
       "    }\n",
       "\n",
       "    .dataframe thead th {\n",
       "        text-align: right;\n",
       "    }\n",
       "</style>\n",
       "<table border=\"1\" class=\"dataframe\">\n",
       "  <thead>\n",
       "    <tr style=\"text-align: right;\">\n",
       "      <th></th>\n",
       "      <th>cols</th>\n",
       "      <th>imp</th>\n",
       "    </tr>\n",
       "  </thead>\n",
       "  <tbody>\n",
       "    <tr>\n",
       "      <th>125</th>\n",
       "      <td>totals.pageviews</td>\n",
       "      <td>0.479296</td>\n",
       "    </tr>\n",
       "    <tr>\n",
       "      <th>124</th>\n",
       "      <td>totals.hits</td>\n",
       "      <td>0.131078</td>\n",
       "    </tr>\n",
       "    <tr>\n",
       "      <th>129</th>\n",
       "      <td>trafficSource.referralPath</td>\n",
       "      <td>0.054614</td>\n",
       "    </tr>\n",
       "    <tr>\n",
       "      <th>112</th>\n",
       "      <td>visitId</td>\n",
       "      <td>0.045517</td>\n",
       "    </tr>\n",
       "    <tr>\n",
       "      <th>114</th>\n",
       "      <td>visitStartTime</td>\n",
       "      <td>0.042652</td>\n",
       "    </tr>\n",
       "    <tr>\n",
       "      <th>113</th>\n",
       "      <td>visitNumber</td>\n",
       "      <td>0.032749</td>\n",
       "    </tr>\n",
       "    <tr>\n",
       "      <th>111</th>\n",
       "      <td>sessionId</td>\n",
       "      <td>0.032078</td>\n",
       "    </tr>\n",
       "    <tr>\n",
       "      <th>110</th>\n",
       "      <td>fullVisitorId</td>\n",
       "      <td>0.029854</td>\n",
       "    </tr>\n",
       "    <tr>\n",
       "      <th>119</th>\n",
       "      <td>geoNetwork.country</td>\n",
       "      <td>0.019277</td>\n",
       "    </tr>\n",
       "    <tr>\n",
       "      <th>121</th>\n",
       "      <td>geoNetwork.networkDomain</td>\n",
       "      <td>0.018921</td>\n",
       "    </tr>\n",
       "    <tr>\n",
       "      <th>118</th>\n",
       "      <td>geoNetwork.city</td>\n",
       "      <td>0.018325</td>\n",
       "    </tr>\n",
       "    <tr>\n",
       "      <th>122</th>\n",
       "      <td>geoNetwork.region</td>\n",
       "      <td>0.016834</td>\n",
       "    </tr>\n",
       "    <tr>\n",
       "      <th>117</th>\n",
       "      <td>device.operatingSystem</td>\n",
       "      <td>0.013432</td>\n",
       "    </tr>\n",
       "    <tr>\n",
       "      <th>120</th>\n",
       "      <td>geoNetwork.metro</td>\n",
       "      <td>0.013011</td>\n",
       "    </tr>\n",
       "    <tr>\n",
       "      <th>100</th>\n",
       "      <td>trafficSource.isTrueDirect_-1</td>\n",
       "      <td>0.012175</td>\n",
       "    </tr>\n",
       "    <tr>\n",
       "      <th>57</th>\n",
       "      <td>totals.newVisits_1</td>\n",
       "      <td>0.006620</td>\n",
       "    </tr>\n",
       "    <tr>\n",
       "      <th>132</th>\n",
       "      <td>totals.newVisits_na</td>\n",
       "      <td>0.006406</td>\n",
       "    </tr>\n",
       "    <tr>\n",
       "      <th>116</th>\n",
       "      <td>device.isMobile</td>\n",
       "      <td>0.003664</td>\n",
       "    </tr>\n",
       "    <tr>\n",
       "      <th>58</th>\n",
       "      <td>totals.newVisits_-1</td>\n",
       "      <td>0.003508</td>\n",
       "    </tr>\n",
       "    <tr>\n",
       "      <th>141</th>\n",
       "      <td>trafficSource.isTrueDirect_na</td>\n",
       "      <td>0.003505</td>\n",
       "    </tr>\n",
       "    <tr>\n",
       "      <th>115</th>\n",
       "      <td>device.browser</td>\n",
       "      <td>0.002724</td>\n",
       "    </tr>\n",
       "    <tr>\n",
       "      <th>2</th>\n",
       "      <td>channelGrouping_Direct</td>\n",
       "      <td>0.002631</td>\n",
       "    </tr>\n",
       "    <tr>\n",
       "      <th>43</th>\n",
       "      <td>geoNetwork.continent_Americas</td>\n",
       "      <td>0.001733</td>\n",
       "    </tr>\n",
       "    <tr>\n",
       "      <th>102</th>\n",
       "      <td>trafficSource.medium_(none)</td>\n",
       "      <td>0.001251</td>\n",
       "    </tr>\n",
       "    <tr>\n",
       "      <th>4</th>\n",
       "      <td>channelGrouping_Organic Search</td>\n",
       "      <td>0.001212</td>\n",
       "    </tr>\n",
       "    <tr>\n",
       "      <th>130</th>\n",
       "      <td>trafficSource.source</td>\n",
       "      <td>0.001207</td>\n",
       "    </tr>\n",
       "    <tr>\n",
       "      <th>99</th>\n",
       "      <td>trafficSource.isTrueDirect_True</td>\n",
       "      <td>0.000884</td>\n",
       "    </tr>\n",
       "    <tr>\n",
       "      <th>15</th>\n",
       "      <td>device.deviceCategory_desktop</td>\n",
       "      <td>0.000845</td>\n",
       "    </tr>\n",
       "    <tr>\n",
       "      <th>128</th>\n",
       "      <td>trafficSource.keyword</td>\n",
       "      <td>0.000806</td>\n",
       "    </tr>\n",
       "    <tr>\n",
       "      <th>107</th>\n",
       "      <td>trafficSource.medium_organic</td>\n",
       "      <td>0.000666</td>\n",
       "    </tr>\n",
       "    <tr>\n",
       "      <th>...</th>\n",
       "      <td>...</td>\n",
       "      <td>...</td>\n",
       "    </tr>\n",
       "    <tr>\n",
       "      <th>74</th>\n",
       "      <td>trafficSource.adwordsClickInfo.page_3</td>\n",
       "      <td>0.000000</td>\n",
       "    </tr>\n",
       "    <tr>\n",
       "      <th>73</th>\n",
       "      <td>trafficSource.adwordsClickInfo.page_2</td>\n",
       "      <td>0.000000</td>\n",
       "    </tr>\n",
       "    <tr>\n",
       "      <th>1</th>\n",
       "      <td>channelGrouping_Affiliates</td>\n",
       "      <td>0.000000</td>\n",
       "    </tr>\n",
       "    <tr>\n",
       "      <th>71</th>\n",
       "      <td>trafficSource.adwordsClickInfo.page_1</td>\n",
       "      <td>0.000000</td>\n",
       "    </tr>\n",
       "    <tr>\n",
       "      <th>70</th>\n",
       "      <td>trafficSource.adwordsClickInfo.isVideoAd_nan</td>\n",
       "      <td>0.000000</td>\n",
       "    </tr>\n",
       "    <tr>\n",
       "      <th>69</th>\n",
       "      <td>trafficSource.adwordsClickInfo.isVideoAd_-1</td>\n",
       "      <td>0.000000</td>\n",
       "    </tr>\n",
       "    <tr>\n",
       "      <th>68</th>\n",
       "      <td>trafficSource.adwordsClickInfo.isVideoAd_False</td>\n",
       "      <td>0.000000</td>\n",
       "    </tr>\n",
       "    <tr>\n",
       "      <th>67</th>\n",
       "      <td>trafficSource.adwordsClickInfo.criteriaParamet...</td>\n",
       "      <td>0.000000</td>\n",
       "    </tr>\n",
       "    <tr>\n",
       "      <th>66</th>\n",
       "      <td>trafficSource.adwordsClickInfo.criteriaParamet...</td>\n",
       "      <td>0.000000</td>\n",
       "    </tr>\n",
       "    <tr>\n",
       "      <th>65</th>\n",
       "      <td>trafficSource.adwordsClickInfo.adNetworkType_nan</td>\n",
       "      <td>0.000000</td>\n",
       "    </tr>\n",
       "    <tr>\n",
       "      <th>64</th>\n",
       "      <td>trafficSource.adwordsClickInfo.adNetworkType_-1</td>\n",
       "      <td>0.000000</td>\n",
       "    </tr>\n",
       "    <tr>\n",
       "      <th>63</th>\n",
       "      <td>trafficSource.adwordsClickInfo.adNetworkType_S...</td>\n",
       "      <td>0.000000</td>\n",
       "    </tr>\n",
       "    <tr>\n",
       "      <th>62</th>\n",
       "      <td>trafficSource.adwordsClickInfo.adNetworkType_G...</td>\n",
       "      <td>0.000000</td>\n",
       "    </tr>\n",
       "    <tr>\n",
       "      <th>61</th>\n",
       "      <td>totals.visits_nan</td>\n",
       "      <td>0.000000</td>\n",
       "    </tr>\n",
       "    <tr>\n",
       "      <th>60</th>\n",
       "      <td>totals.visits_1</td>\n",
       "      <td>0.000000</td>\n",
       "    </tr>\n",
       "    <tr>\n",
       "      <th>59</th>\n",
       "      <td>totals.newVisits_nan</td>\n",
       "      <td>0.000000</td>\n",
       "    </tr>\n",
       "    <tr>\n",
       "      <th>56</th>\n",
       "      <td>totals.bounces_nan</td>\n",
       "      <td>0.000000</td>\n",
       "    </tr>\n",
       "    <tr>\n",
       "      <th>55</th>\n",
       "      <td>totals.bounces_-1</td>\n",
       "      <td>0.000000</td>\n",
       "    </tr>\n",
       "    <tr>\n",
       "      <th>54</th>\n",
       "      <td>totals.bounces_1</td>\n",
       "      <td>0.000000</td>\n",
       "    </tr>\n",
       "    <tr>\n",
       "      <th>53</th>\n",
       "      <td>geoNetwork.networkLocation_nan</td>\n",
       "      <td>0.000000</td>\n",
       "    </tr>\n",
       "    <tr>\n",
       "      <th>52</th>\n",
       "      <td>geoNetwork.networkLocation_not available in de...</td>\n",
       "      <td>0.000000</td>\n",
       "    </tr>\n",
       "    <tr>\n",
       "      <th>51</th>\n",
       "      <td>geoNetwork.longitude_nan</td>\n",
       "      <td>0.000000</td>\n",
       "    </tr>\n",
       "    <tr>\n",
       "      <th>50</th>\n",
       "      <td>geoNetwork.longitude_not available in demo dat...</td>\n",
       "      <td>0.000000</td>\n",
       "    </tr>\n",
       "    <tr>\n",
       "      <th>49</th>\n",
       "      <td>geoNetwork.latitude_nan</td>\n",
       "      <td>0.000000</td>\n",
       "    </tr>\n",
       "    <tr>\n",
       "      <th>48</th>\n",
       "      <td>geoNetwork.latitude_not available in demo dataset</td>\n",
       "      <td>0.000000</td>\n",
       "    </tr>\n",
       "    <tr>\n",
       "      <th>47</th>\n",
       "      <td>geoNetwork.continent_nan</td>\n",
       "      <td>0.000000</td>\n",
       "    </tr>\n",
       "    <tr>\n",
       "      <th>46</th>\n",
       "      <td>geoNetwork.continent_Oceania</td>\n",
       "      <td>0.000000</td>\n",
       "    </tr>\n",
       "    <tr>\n",
       "      <th>42</th>\n",
       "      <td>geoNetwork.continent_Africa</td>\n",
       "      <td>0.000000</td>\n",
       "    </tr>\n",
       "    <tr>\n",
       "      <th>41</th>\n",
       "      <td>geoNetwork.continent_(not set)</td>\n",
       "      <td>0.000000</td>\n",
       "    </tr>\n",
       "    <tr>\n",
       "      <th>143</th>\n",
       "      <td>trafficSource.referralPath_na</td>\n",
       "      <td>0.000000</td>\n",
       "    </tr>\n",
       "  </tbody>\n",
       "</table>\n",
       "<p>144 rows × 2 columns</p>\n",
       "</div>"
      ],
      "text/plain": [
       "                                                  cols       imp\n",
       "125                                   totals.pageviews  0.479296\n",
       "124                                        totals.hits  0.131078\n",
       "129                         trafficSource.referralPath  0.054614\n",
       "112                                            visitId  0.045517\n",
       "114                                     visitStartTime  0.042652\n",
       "113                                        visitNumber  0.032749\n",
       "111                                          sessionId  0.032078\n",
       "110                                      fullVisitorId  0.029854\n",
       "119                                 geoNetwork.country  0.019277\n",
       "121                           geoNetwork.networkDomain  0.018921\n",
       "118                                    geoNetwork.city  0.018325\n",
       "122                                  geoNetwork.region  0.016834\n",
       "117                             device.operatingSystem  0.013432\n",
       "120                                   geoNetwork.metro  0.013011\n",
       "100                      trafficSource.isTrueDirect_-1  0.012175\n",
       "57                                  totals.newVisits_1  0.006620\n",
       "132                                totals.newVisits_na  0.006406\n",
       "116                                    device.isMobile  0.003664\n",
       "58                                 totals.newVisits_-1  0.003508\n",
       "141                      trafficSource.isTrueDirect_na  0.003505\n",
       "115                                     device.browser  0.002724\n",
       "2                               channelGrouping_Direct  0.002631\n",
       "43                       geoNetwork.continent_Americas  0.001733\n",
       "102                        trafficSource.medium_(none)  0.001251\n",
       "4                       channelGrouping_Organic Search  0.001212\n",
       "130                               trafficSource.source  0.001207\n",
       "99                     trafficSource.isTrueDirect_True  0.000884\n",
       "15                       device.deviceCategory_desktop  0.000845\n",
       "128                              trafficSource.keyword  0.000806\n",
       "107                       trafficSource.medium_organic  0.000666\n",
       "..                                                 ...       ...\n",
       "74               trafficSource.adwordsClickInfo.page_3  0.000000\n",
       "73               trafficSource.adwordsClickInfo.page_2  0.000000\n",
       "1                           channelGrouping_Affiliates  0.000000\n",
       "71               trafficSource.adwordsClickInfo.page_1  0.000000\n",
       "70        trafficSource.adwordsClickInfo.isVideoAd_nan  0.000000\n",
       "69         trafficSource.adwordsClickInfo.isVideoAd_-1  0.000000\n",
       "68      trafficSource.adwordsClickInfo.isVideoAd_False  0.000000\n",
       "67   trafficSource.adwordsClickInfo.criteriaParamet...  0.000000\n",
       "66   trafficSource.adwordsClickInfo.criteriaParamet...  0.000000\n",
       "65    trafficSource.adwordsClickInfo.adNetworkType_nan  0.000000\n",
       "64     trafficSource.adwordsClickInfo.adNetworkType_-1  0.000000\n",
       "63   trafficSource.adwordsClickInfo.adNetworkType_S...  0.000000\n",
       "62   trafficSource.adwordsClickInfo.adNetworkType_G...  0.000000\n",
       "61                                   totals.visits_nan  0.000000\n",
       "60                                     totals.visits_1  0.000000\n",
       "59                                totals.newVisits_nan  0.000000\n",
       "56                                  totals.bounces_nan  0.000000\n",
       "55                                   totals.bounces_-1  0.000000\n",
       "54                                    totals.bounces_1  0.000000\n",
       "53                      geoNetwork.networkLocation_nan  0.000000\n",
       "52   geoNetwork.networkLocation_not available in de...  0.000000\n",
       "51                            geoNetwork.longitude_nan  0.000000\n",
       "50   geoNetwork.longitude_not available in demo dat...  0.000000\n",
       "49                             geoNetwork.latitude_nan  0.000000\n",
       "48   geoNetwork.latitude_not available in demo dataset  0.000000\n",
       "47                            geoNetwork.continent_nan  0.000000\n",
       "46                        geoNetwork.continent_Oceania  0.000000\n",
       "42                         geoNetwork.continent_Africa  0.000000\n",
       "41                      geoNetwork.continent_(not set)  0.000000\n",
       "143                      trafficSource.referralPath_na  0.000000\n",
       "\n",
       "[144 rows x 2 columns]"
      ]
     },
     "execution_count": 37,
     "metadata": {},
     "output_type": "execute_result"
    }
   ],
   "source": [
    "rf_feat_importance(model,train_x)"
   ]
  },
  {
   "cell_type": "code",
   "execution_count": null,
   "metadata": {},
   "outputs": [],
   "source": [
    "train_x.visitId"
   ]
  },
  {
   "cell_type": "code",
   "execution_count": 38,
   "metadata": {},
   "outputs": [
    {
     "name": "stdout",
     "output_type": "stream",
     "text": [
      "Starting training...\n",
      "[1]\tvalid_0's l1: 0.476127\tvalid_0's l2: 4.70574\n",
      "Training until validation scores don't improve for 5 rounds.\n",
      "[2]\tvalid_0's l1: 0.471588\tvalid_0's l2: 4.61214\n",
      "[3]\tvalid_0's l1: 0.467605\tvalid_0's l2: 4.53458\n",
      "[4]\tvalid_0's l1: 0.463538\tvalid_0's l2: 4.46431\n",
      "[5]\tvalid_0's l1: 0.45983\tvalid_0's l2: 4.39628\n",
      "[6]\tvalid_0's l1: 0.456254\tvalid_0's l2: 4.3208\n",
      "[7]\tvalid_0's l1: 0.454399\tvalid_0's l2: 4.2835\n",
      "[8]\tvalid_0's l1: 0.45078\tvalid_0's l2: 4.21324\n",
      "[9]\tvalid_0's l1: 0.447535\tvalid_0's l2: 4.15498\n",
      "[10]\tvalid_0's l1: 0.444955\tvalid_0's l2: 4.10789\n",
      "[11]\tvalid_0's l1: 0.442493\tvalid_0's l2: 4.07155\n",
      "[12]\tvalid_0's l1: 0.439944\tvalid_0's l2: 4.03035\n",
      "[13]\tvalid_0's l1: 0.436886\tvalid_0's l2: 3.97592\n",
      "[14]\tvalid_0's l1: 0.434479\tvalid_0's l2: 3.93784\n",
      "[15]\tvalid_0's l1: 0.432746\tvalid_0's l2: 3.91392\n",
      "[16]\tvalid_0's l1: 0.430391\tvalid_0's l2: 3.87565\n",
      "[17]\tvalid_0's l1: 0.428051\tvalid_0's l2: 3.84387\n",
      "[18]\tvalid_0's l1: 0.426481\tvalid_0's l2: 3.82235\n",
      "[19]\tvalid_0's l1: 0.424922\tvalid_0's l2: 3.79186\n",
      "[20]\tvalid_0's l1: 0.422607\tvalid_0's l2: 3.76229\n",
      "Did not meet early stopping. Best iteration is:\n",
      "[20]\tvalid_0's l1: 0.422607\tvalid_0's l2: 3.76229\n"
     ]
    }
   ],
   "source": [
    "lgb_train = lgb.Dataset(train_x, train_y)\n",
    "lgb_eval = lgb.Dataset(val_x, val_y, reference=lgb_train)\n",
    "\n",
    "# specify your configurations as a dict\n",
    "params = {\n",
    "    'boosting_type': 'gbdt',\n",
    "    'objective': 'regression',\n",
    "    'metric': {'l2', 'l1'},\n",
    "    'num_leaves': 31,\n",
    "    'learning_rate': 0.05,\n",
    "    'feature_fraction': 0.9,\n",
    "    'bagging_fraction': 0.8,\n",
    "    'bagging_freq': 5,\n",
    "    'verbose': 0\n",
    "}\n",
    "\n",
    "print('Starting training...')\n",
    "# train\n",
    "gbm = lgb.train(params,\n",
    "                lgb_train,\n",
    "                num_boost_round=20,\n",
    "                valid_sets=lgb_eval,\n",
    "                early_stopping_rounds=5)"
   ]
  },
  {
   "cell_type": "code",
   "execution_count": 40,
   "metadata": {},
   "outputs": [
    {
     "name": "stdout",
     "output_type": "stream",
     "text": [
      "train RMSE: 1.754 \n",
      " val RMSE: 1.94\n"
     ]
    },
    {
     "data": {
      "text/plain": [
       "[1.7536174790679735, 1.9396632300245589]"
      ]
     },
     "execution_count": 40,
     "metadata": {},
     "output_type": "execute_result"
    }
   ],
   "source": [
    "print_score(gbm)"
   ]
  },
  {
   "cell_type": "code",
   "execution_count": null,
   "metadata": {},
   "outputs": [],
   "source": [
    "model.feature_importances_"
   ]
  },
  {
   "cell_type": "code",
   "execution_count": null,
   "metadata": {},
   "outputs": [],
   "source": [
    "model.score(train_x,train_y)"
   ]
  },
  {
   "cell_type": "code",
   "execution_count": null,
   "metadata": {},
   "outputs": [],
   "source": [
    "model.score(val_x,val_y)"
   ]
  },
  {
   "cell_type": "code",
   "execution_count": null,
   "metadata": {},
   "outputs": [],
   "source": [
    "# Feature importance analysis"
   ]
  },
  {
   "cell_type": "code",
   "execution_count": null,
   "metadata": {},
   "outputs": [],
   "source": [
    "# other kinds of feature importance"
   ]
  },
  {
   "cell_type": "code",
   "execution_count": null,
   "metadata": {},
   "outputs": [],
   "source": [
    "# investigate important features "
   ]
  },
  {
   "cell_type": "code",
   "execution_count": null,
   "metadata": {},
   "outputs": [],
   "source": [
    "# rerun the model"
   ]
  },
  {
   "cell_type": "code",
   "execution_count": null,
   "metadata": {},
   "outputs": [],
   "source": [
    "\n",
    "# run a random search on hyperparameters "
   ]
  },
  {
   "cell_type": "code",
   "execution_count": null,
   "metadata": {},
   "outputs": [],
   "source": [
    "[col for col in train_x.columns]"
   ]
  },
  {
   "cell_type": "code",
   "execution_count": null,
   "metadata": {
    "scrolled": true
   },
   "outputs": [],
   "source": [
    "train_x[\"fullVisitorId\"]"
   ]
  },
  {
   "cell_type": "code",
   "execution_count": null,
   "metadata": {},
   "outputs": [],
   "source": [
    "train_y.max()"
   ]
  },
  {
   "cell_type": "code",
   "execution_count": null,
   "metadata": {},
   "outputs": [],
   "source": [
    "|"
   ]
  }
 ],
 "metadata": {
  "kernelspec": {
   "display_name": "Python [default]",
   "language": "python",
   "name": "python3"
  },
  "language_info": {
   "codemirror_mode": {
    "name": "ipython",
    "version": 3
   },
   "file_extension": ".py",
   "mimetype": "text/x-python",
   "name": "python",
   "nbconvert_exporter": "python",
   "pygments_lexer": "ipython3",
   "version": "3.6.6"
  },
  "toc": {
   "base_numbering": 1,
   "nav_menu": {},
   "number_sections": true,
   "sideBar": true,
   "skip_h1_title": false,
   "title_cell": "Table of Contents",
   "title_sidebar": "Contents",
   "toc_cell": false,
   "toc_position": {},
   "toc_section_display": true,
   "toc_window_display": false
  }
 },
 "nbformat": 4,
 "nbformat_minor": 2
}
