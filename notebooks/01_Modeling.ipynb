{
 "cells": [
  {
   "cell_type": "code",
   "execution_count": 149,
   "metadata": {},
   "outputs": [
    {
     "ename": "ModuleNotFoundError",
     "evalue": "No module named 'xgboost'",
     "output_type": "error",
     "traceback": [
      "\u001b[0;31m---------------------------------------------------------------------------\u001b[0m",
      "\u001b[0;31mModuleNotFoundError\u001b[0m                       Traceback (most recent call last)",
      "\u001b[0;32m<ipython-input-149-d966fc71c3e9>\u001b[0m in \u001b[0;36m<module>\u001b[0;34m\u001b[0m\n\u001b[1;32m      6\u001b[0m \u001b[0;32mfrom\u001b[0m \u001b[0msklearn\u001b[0m\u001b[0;34m.\u001b[0m\u001b[0mlinear_model\u001b[0m \u001b[0;32mimport\u001b[0m \u001b[0mLinearRegression\u001b[0m\u001b[0;34m\u001b[0m\u001b[0m\n\u001b[1;32m      7\u001b[0m \u001b[0;32mfrom\u001b[0m \u001b[0msklearn\u001b[0m\u001b[0;34m.\u001b[0m\u001b[0mensemble\u001b[0m \u001b[0;32mimport\u001b[0m \u001b[0mRandomForestRegressor\u001b[0m\u001b[0;34m\u001b[0m\u001b[0m\n\u001b[0;32m----> 8\u001b[0;31m \u001b[0;32mimport\u001b[0m \u001b[0mxgboost\u001b[0m\u001b[0;34m\u001b[0m\u001b[0m\n\u001b[0m",
      "\u001b[0;31mModuleNotFoundError\u001b[0m: No module named 'xgboost'"
     ]
    }
   ],
   "source": [
    "import pandas as pd\n",
    "import numpy as np\n",
    "import os\n",
    "import json\n",
    "\n",
    "from sklearn.linear_model import LinearRegression\n",
    "from sklearn.ensemble import RandomForestRegressor\n",
    "import xgboost\n"
   ]
  },
  {
   "cell_type": "code",
   "execution_count": 34,
   "metadata": {},
   "outputs": [],
   "source": [
    "def set_rf_samples(n):\n",
    "    \"\"\" Changes Scikit learn's random forests to give each tree a random sample of\n",
    "    n random rows.\n",
    "    \"\"\"\n",
    "    forest._generate_sample_indices = (lambda rs, n_samples:\n",
    "        forest.check_random_state(rs).randint(0, n_samples, n))\n",
    "\n",
    "def reset_rf_samples():\n",
    "    \"\"\" Undoes the changes produced by set_rf_samples.\n",
    "    \"\"\"\n",
    "    forest._generate_sample_indices = (lambda rs, n_samples:\n",
    "        forest.check_random_state(rs).randint(0, n_samples, n_samples))"
   ]
  },
  {
   "cell_type": "code",
   "execution_count": 35,
   "metadata": {},
   "outputs": [],
   "source": [
    "PATH = '../data/'"
   ]
  },
  {
   "cell_type": "markdown",
   "metadata": {},
   "source": [
    "# Load the data"
   ]
  },
  {
   "cell_type": "code",
   "execution_count": 36,
   "metadata": {},
   "outputs": [
    {
     "data": {
      "text/plain": [
       "'../data/preprocessed_df.csv'"
      ]
     },
     "execution_count": 36,
     "metadata": {},
     "output_type": "execute_result"
    }
   ],
   "source": [
    "'../data/preprocessed_df.csv'"
   ]
  },
  {
   "cell_type": "code",
   "execution_count": 37,
   "metadata": {},
   "outputs": [],
   "source": [
    "nrows = None\n",
    "# nrows = 2000"
   ]
  },
  {
   "cell_type": "code",
   "execution_count": 38,
   "metadata": {},
   "outputs": [],
   "source": [
    "df = pd.read_hdf(f'{PATH}'+\"preprocessed_df.hdf\")"
   ]
  },
  {
   "cell_type": "markdown",
   "metadata": {},
   "source": [
    "# Implement the loss function"
   ]
  },
  {
   "cell_type": "code",
   "execution_count": 46,
   "metadata": {},
   "outputs": [],
   "source": [
    "def rmse(y_pred, y):\n",
    "    y_pred, y = np.array(y_pred), np.array(y)\n",
    "    return np.sqrt(np.mean((y_pred - y)**2))"
   ]
  },
  {
   "cell_type": "markdown",
   "metadata": {},
   "source": [
    "# Make train & validation sets"
   ]
  },
  {
   "cell_type": "code",
   "execution_count": 132,
   "metadata": {},
   "outputs": [
    {
     "name": "stdout",
     "output_type": "stream",
     "text": [
      "df_train date span: 2016-08-01 00:00:00 - 2017-04-30 00:00:00\n",
      "df_val date span:   2017-05-01 00:00:00 - 2017-08-01 00:00:00\n",
      "\n",
      "\n",
      "train_y (700336,)\n",
      "train_x (700336, 157)\n",
      "--------------------\n",
      "val_y   (203317,)\n",
      "val_x   (203317, 157)\n",
      "\n"
     ]
    }
   ],
   "source": [
    "# Making a validation set out of the last 3 months of data available\n",
    "# df.date.min(), df.date.max()\n",
    "df_train = df[df.date < pd.datetime(2017, 5, 1)].copy()\n",
    "df_val = df[df.date >= pd.datetime(2017, 5, 1)].copy()\n",
    "\n",
    "print(\"df_train date span: {} - {}\".format(df_train.date.min(), df_train.date.max()))\n",
    "\n",
    "print(\"df_val date span:   {} - {}\".format(df_val.date.min(), df_val.date.max()))\n",
    "print('\\n')\n",
    "\n",
    "df_train.drop(\"date\",axis=1,inplace=True)\n",
    "df_val.drop(\"date\",axis=1,inplace=True)\n",
    "\n",
    "train_y = df_train[\"totals.transactionRevenue\"]\n",
    "train_x = df_train.drop([\"totals.transactionRevenue\", \n",
    "                         \"totals.transactionRevenue_na\"], axis=1)\n",
    "\n",
    "val_y = df_val[\"totals.transactionRevenue\"]\n",
    "val_x = df_val.drop([\"totals.transactionRevenue\", \n",
    "                         \"totals.transactionRevenue_na\"],axis=1)\n",
    "\n",
    "\n",
    "print(\"train_y {}\\n\\\n",
    "train_x {}\\n\\\n",
    "--------------------\\n\\\n",
    "val_y   {}\\n\\\n",
    "val_x   {}\\n\".format(train_y.shape, train_x.shape, val_y.shape, val_x.shape))\n"
   ]
  },
  {
   "cell_type": "code",
   "execution_count": 143,
   "metadata": {},
   "outputs": [
    {
     "data": {
      "text/plain": [
       "Index(['channelGrouping_(Other)', 'channelGrouping_Affiliates',\n",
       "       'channelGrouping_Direct', 'channelGrouping_Display',\n",
       "       'channelGrouping_Organic Search', 'channelGrouping_Paid Search',\n",
       "       'channelGrouping_Referral', 'channelGrouping_Social',\n",
       "       'channelGrouping_nan', 'socialEngagementType_Not Socially Engaged',\n",
       "       ...\n",
       "       'trafficSource.adContent_na',\n",
       "       'trafficSource.adwordsClickInfo.adNetworkType_na',\n",
       "       'trafficSource.adwordsClickInfo.gclId_na',\n",
       "       'trafficSource.adwordsClickInfo.isVideoAd_na',\n",
       "       'trafficSource.adwordsClickInfo.page_na',\n",
       "       'trafficSource.adwordsClickInfo.slot_na',\n",
       "       'trafficSource.campaignCode_na', 'trafficSource.isTrueDirect_na',\n",
       "       'trafficSource.keyword_na', 'trafficSource.referralPath_na'],\n",
       "      dtype='object', length=159)"
      ]
     },
     "execution_count": 143,
     "metadata": {},
     "output_type": "execute_result"
    }
   ],
   "source": [
    "df_train.columns"
   ]
  },
  {
   "cell_type": "code",
   "execution_count": 136,
   "metadata": {},
   "outputs": [
    {
     "data": {
      "text/plain": [
       "0    8.581669\n",
       "1    8.581669\n",
       "2    8.581669\n",
       "3    8.581669\n",
       "4    8.581669\n",
       "Name: totals.transactionRevenue, dtype: float32"
      ]
     },
     "execution_count": 136,
     "metadata": {},
     "output_type": "execute_result"
    }
   ],
   "source": [
    "df_train[\"totals.transactionRevenue\"].head()"
   ]
  },
  {
   "cell_type": "code",
   "execution_count": 142,
   "metadata": {},
   "outputs": [
    {
     "data": {
      "text/plain": [
       "count    203317.000000\n",
       "mean          8.566182\n",
       "std           0.173626\n",
       "min           0.693147\n",
       "25%           8.581669\n",
       "50%           8.581669\n",
       "75%           8.581669\n",
       "max           8.581669\n",
       "Name: totals.transactionRevenue, dtype: float64"
      ]
     },
     "execution_count": 142,
     "metadata": {},
     "output_type": "execute_result"
    }
   ],
   "source": [
    "val_y.describe()"
   ]
  },
  {
   "cell_type": "code",
   "execution_count": 114,
   "metadata": {},
   "outputs": [],
   "source": [
    "# Run a linear model"
   ]
  },
  {
   "cell_type": "code",
   "execution_count": 115,
   "metadata": {},
   "outputs": [
    {
     "data": {
      "text/plain": [
       "LinearRegression(copy_X=True, fit_intercept=True, n_jobs=None,\n",
       "         normalize=False)"
      ]
     },
     "execution_count": 115,
     "metadata": {},
     "output_type": "execute_result"
    }
   ],
   "source": [
    "model = LinearRegression()\n",
    "model.fit(train_x, train_y)"
   ]
  },
  {
   "cell_type": "code",
   "execution_count": 117,
   "metadata": {},
   "outputs": [
    {
     "data": {
      "text/plain": [
       "0.02457984858822249"
      ]
     },
     "execution_count": 117,
     "metadata": {},
     "output_type": "execute_result"
    }
   ],
   "source": [
    "model.score(val_x, val_y)"
   ]
  },
  {
   "cell_type": "code",
   "execution_count": 118,
   "metadata": {},
   "outputs": [],
   "source": [
    "# Run a baseline Random Forest model on a subset of data "
   ]
  },
  {
   "cell_type": "code",
   "execution_count": 119,
   "metadata": {},
   "outputs": [
    {
     "data": {
      "text/plain": [
       "RandomForestRegressor(bootstrap=True, criterion='mse', max_depth=None,\n",
       "           max_features='auto', max_leaf_nodes=None,\n",
       "           min_impurity_decrease=0.0, min_impurity_split=None,\n",
       "           min_samples_leaf=20, min_samples_split=2,\n",
       "           min_weight_fraction_leaf=0.0, n_estimators=20, n_jobs=None,\n",
       "           oob_score=False, random_state=None, verbose=0, warm_start=False)"
      ]
     },
     "execution_count": 119,
     "metadata": {},
     "output_type": "execute_result"
    }
   ],
   "source": [
    "model = RandomForestRegressor(n_estimators = 20, min_samples_leaf=20)\n",
    "model.fit(train_x, train_y)\n",
    "    \n",
    "    \n",
    "# m = RandomForestRegressor(n_jobs=-1)\n",
    "# # The following code is supposed to fail due to string values in the input data\n",
    "# m.fit(df_raw.drop('SalePrice', axis=1), df_raw.SalePrice"
   ]
  },
  {
   "cell_type": "code",
   "execution_count": 120,
   "metadata": {},
   "outputs": [],
   "source": [
    "def print_score(model=model):\n",
    "    train_rmse = rmse(model.predict(train_x),train_y)\n",
    "    val_rmse = rmse(model.predict(val_x),val_y)\n",
    "    \n",
    "    print('train RMSE: {:.4} \\n val RMSE: {:.4}'.format(train_rmse, val_rmse))\n",
    "    \n",
    "    return [train_rmse, val_rmse]\n",
    "    "
   ]
  },
  {
   "cell_type": "code",
   "execution_count": 121,
   "metadata": {
    "scrolled": false
   },
   "outputs": [
    {
     "name": "stdout",
     "output_type": "stream",
     "text": [
      "train RMSE: 0.1234 \n",
      " val RMSE: 0.1599\n"
     ]
    },
    {
     "data": {
      "text/plain": [
       "[0.12335777186354023, 0.15991153245439504]"
      ]
     },
     "execution_count": 121,
     "metadata": {},
     "output_type": "execute_result"
    }
   ],
   "source": [
    "print_score(model)"
   ]
  },
  {
   "cell_type": "code",
   "execution_count": 122,
   "metadata": {},
   "outputs": [],
   "source": [
    "def rf_feat_importance(m, df):\n",
    "    return pd.DataFrame({'cols':df.columns, 'imp':m.feature_importances_}\n",
    "                       ).sort_values('imp', ascending=False)\n"
   ]
  },
  {
   "cell_type": "code",
   "execution_count": 123,
   "metadata": {},
   "outputs": [
    {
     "data": {
      "text/plain": [
       "157"
      ]
     },
     "execution_count": 123,
     "metadata": {},
     "output_type": "execute_result"
    }
   ],
   "source": [
    "len(train_x.columns)"
   ]
  },
  {
   "cell_type": "code",
   "execution_count": 124,
   "metadata": {},
   "outputs": [
    {
     "data": {
      "text/plain": [
       "157"
      ]
     },
     "execution_count": 124,
     "metadata": {},
     "output_type": "execute_result"
    }
   ],
   "source": [
    "len(model.feature_importances_)"
   ]
  },
  {
   "cell_type": "code",
   "execution_count": 125,
   "metadata": {
    "scrolled": true
   },
   "outputs": [
    {
     "data": {
      "text/html": [
       "<div>\n",
       "<style scoped>\n",
       "    .dataframe tbody tr th:only-of-type {\n",
       "        vertical-align: middle;\n",
       "    }\n",
       "\n",
       "    .dataframe tbody tr th {\n",
       "        vertical-align: top;\n",
       "    }\n",
       "\n",
       "    .dataframe thead th {\n",
       "        text-align: right;\n",
       "    }\n",
       "</style>\n",
       "<table border=\"1\" class=\"dataframe\">\n",
       "  <thead>\n",
       "    <tr style=\"text-align: right;\">\n",
       "      <th></th>\n",
       "      <th>cols</th>\n",
       "      <th>imp</th>\n",
       "    </tr>\n",
       "  </thead>\n",
       "  <tbody>\n",
       "    <tr>\n",
       "      <th>125</th>\n",
       "      <td>totals.pageviews</td>\n",
       "      <td>0.381137</td>\n",
       "    </tr>\n",
       "    <tr>\n",
       "      <th>124</th>\n",
       "      <td>totals.hits</td>\n",
       "      <td>0.137963</td>\n",
       "    </tr>\n",
       "    <tr>\n",
       "      <th>134</th>\n",
       "      <td>Day</td>\n",
       "      <td>0.040989</td>\n",
       "    </tr>\n",
       "    <tr>\n",
       "      <th>114</th>\n",
       "      <td>visitStartTime</td>\n",
       "      <td>0.040983</td>\n",
       "    </tr>\n",
       "    <tr>\n",
       "      <th>112</th>\n",
       "      <td>visitId</td>\n",
       "      <td>0.040088</td>\n",
       "    </tr>\n",
       "    <tr>\n",
       "      <th>129</th>\n",
       "      <td>trafficSource.referralPath</td>\n",
       "      <td>0.039951</td>\n",
       "    </tr>\n",
       "    <tr>\n",
       "      <th>111</th>\n",
       "      <td>sessionId</td>\n",
       "      <td>0.036764</td>\n",
       "    </tr>\n",
       "    <tr>\n",
       "      <th>110</th>\n",
       "      <td>fullVisitorId</td>\n",
       "      <td>0.035610</td>\n",
       "    </tr>\n",
       "    <tr>\n",
       "      <th>136</th>\n",
       "      <td>Dayofyear</td>\n",
       "      <td>0.031201</td>\n",
       "    </tr>\n",
       "    <tr>\n",
       "      <th>121</th>\n",
       "      <td>geoNetwork.networkDomain</td>\n",
       "      <td>0.026611</td>\n",
       "    </tr>\n",
       "    <tr>\n",
       "      <th>113</th>\n",
       "      <td>visitNumber</td>\n",
       "      <td>0.025556</td>\n",
       "    </tr>\n",
       "    <tr>\n",
       "      <th>135</th>\n",
       "      <td>Dayofweek</td>\n",
       "      <td>0.021682</td>\n",
       "    </tr>\n",
       "    <tr>\n",
       "      <th>118</th>\n",
       "      <td>geoNetwork.city</td>\n",
       "      <td>0.020658</td>\n",
       "    </tr>\n",
       "    <tr>\n",
       "      <th>122</th>\n",
       "      <td>geoNetwork.region</td>\n",
       "      <td>0.017618</td>\n",
       "    </tr>\n",
       "    <tr>\n",
       "      <th>119</th>\n",
       "      <td>geoNetwork.country</td>\n",
       "      <td>0.014001</td>\n",
       "    </tr>\n",
       "    <tr>\n",
       "      <th>143</th>\n",
       "      <td>Elapsed</td>\n",
       "      <td>0.013788</td>\n",
       "    </tr>\n",
       "    <tr>\n",
       "      <th>120</th>\n",
       "      <td>geoNetwork.metro</td>\n",
       "      <td>0.012287</td>\n",
       "    </tr>\n",
       "    <tr>\n",
       "      <th>117</th>\n",
       "      <td>device.operatingSystem</td>\n",
       "      <td>0.009593</td>\n",
       "    </tr>\n",
       "    <tr>\n",
       "      <th>133</th>\n",
       "      <td>Week</td>\n",
       "      <td>0.005737</td>\n",
       "    </tr>\n",
       "    <tr>\n",
       "      <th>145</th>\n",
       "      <td>totals.newVisits_na</td>\n",
       "      <td>0.004754</td>\n",
       "    </tr>\n",
       "    <tr>\n",
       "      <th>58</th>\n",
       "      <td>totals.newVisits_-1</td>\n",
       "      <td>0.004624</td>\n",
       "    </tr>\n",
       "    <tr>\n",
       "      <th>57</th>\n",
       "      <td>totals.newVisits_1</td>\n",
       "      <td>0.004372</td>\n",
       "    </tr>\n",
       "    <tr>\n",
       "      <th>128</th>\n",
       "      <td>trafficSource.keyword</td>\n",
       "      <td>0.004049</td>\n",
       "    </tr>\n",
       "    <tr>\n",
       "      <th>100</th>\n",
       "      <td>trafficSource.isTrueDirect_-1</td>\n",
       "      <td>0.003846</td>\n",
       "    </tr>\n",
       "    <tr>\n",
       "      <th>99</th>\n",
       "      <td>trafficSource.isTrueDirect_True</td>\n",
       "      <td>0.003689</td>\n",
       "    </tr>\n",
       "    <tr>\n",
       "      <th>130</th>\n",
       "      <td>trafficSource.source</td>\n",
       "      <td>0.003519</td>\n",
       "    </tr>\n",
       "    <tr>\n",
       "      <th>115</th>\n",
       "      <td>device.browser</td>\n",
       "      <td>0.002504</td>\n",
       "    </tr>\n",
       "    <tr>\n",
       "      <th>154</th>\n",
       "      <td>trafficSource.isTrueDirect_na</td>\n",
       "      <td>0.002200</td>\n",
       "    </tr>\n",
       "    <tr>\n",
       "      <th>116</th>\n",
       "      <td>device.isMobile</td>\n",
       "      <td>0.001818</td>\n",
       "    </tr>\n",
       "    <tr>\n",
       "      <th>2</th>\n",
       "      <td>channelGrouping_Direct</td>\n",
       "      <td>0.001701</td>\n",
       "    </tr>\n",
       "    <tr>\n",
       "      <th>...</th>\n",
       "      <td>...</td>\n",
       "      <td>...</td>\n",
       "    </tr>\n",
       "    <tr>\n",
       "      <th>81</th>\n",
       "      <td>trafficSource.adwordsClickInfo.slot_RHS</td>\n",
       "      <td>0.000000</td>\n",
       "    </tr>\n",
       "    <tr>\n",
       "      <th>80</th>\n",
       "      <td>trafficSource.adwordsClickInfo.page_nan</td>\n",
       "      <td>0.000000</td>\n",
       "    </tr>\n",
       "    <tr>\n",
       "      <th>79</th>\n",
       "      <td>trafficSource.adwordsClickInfo.page_-1</td>\n",
       "      <td>0.000000</td>\n",
       "    </tr>\n",
       "    <tr>\n",
       "      <th>1</th>\n",
       "      <td>channelGrouping_Affiliates</td>\n",
       "      <td>0.000000</td>\n",
       "    </tr>\n",
       "    <tr>\n",
       "      <th>77</th>\n",
       "      <td>trafficSource.adwordsClickInfo.page_7</td>\n",
       "      <td>0.000000</td>\n",
       "    </tr>\n",
       "    <tr>\n",
       "      <th>76</th>\n",
       "      <td>trafficSource.adwordsClickInfo.page_5</td>\n",
       "      <td>0.000000</td>\n",
       "    </tr>\n",
       "    <tr>\n",
       "      <th>75</th>\n",
       "      <td>trafficSource.adwordsClickInfo.page_4</td>\n",
       "      <td>0.000000</td>\n",
       "    </tr>\n",
       "    <tr>\n",
       "      <th>74</th>\n",
       "      <td>trafficSource.adwordsClickInfo.page_3</td>\n",
       "      <td>0.000000</td>\n",
       "    </tr>\n",
       "    <tr>\n",
       "      <th>73</th>\n",
       "      <td>trafficSource.adwordsClickInfo.page_2</td>\n",
       "      <td>0.000000</td>\n",
       "    </tr>\n",
       "    <tr>\n",
       "      <th>72</th>\n",
       "      <td>trafficSource.adwordsClickInfo.page_14</td>\n",
       "      <td>0.000000</td>\n",
       "    </tr>\n",
       "    <tr>\n",
       "      <th>71</th>\n",
       "      <td>trafficSource.adwordsClickInfo.page_1</td>\n",
       "      <td>0.000000</td>\n",
       "    </tr>\n",
       "    <tr>\n",
       "      <th>70</th>\n",
       "      <td>trafficSource.adwordsClickInfo.isVideoAd_nan</td>\n",
       "      <td>0.000000</td>\n",
       "    </tr>\n",
       "    <tr>\n",
       "      <th>67</th>\n",
       "      <td>trafficSource.adwordsClickInfo.criteriaParamet...</td>\n",
       "      <td>0.000000</td>\n",
       "    </tr>\n",
       "    <tr>\n",
       "      <th>65</th>\n",
       "      <td>trafficSource.adwordsClickInfo.adNetworkType_nan</td>\n",
       "      <td>0.000000</td>\n",
       "    </tr>\n",
       "    <tr>\n",
       "      <th>48</th>\n",
       "      <td>geoNetwork.latitude_not available in demo dataset</td>\n",
       "      <td>0.000000</td>\n",
       "    </tr>\n",
       "    <tr>\n",
       "      <th>64</th>\n",
       "      <td>trafficSource.adwordsClickInfo.adNetworkType_-1</td>\n",
       "      <td>0.000000</td>\n",
       "    </tr>\n",
       "    <tr>\n",
       "      <th>63</th>\n",
       "      <td>trafficSource.adwordsClickInfo.adNetworkType_S...</td>\n",
       "      <td>0.000000</td>\n",
       "    </tr>\n",
       "    <tr>\n",
       "      <th>62</th>\n",
       "      <td>trafficSource.adwordsClickInfo.adNetworkType_G...</td>\n",
       "      <td>0.000000</td>\n",
       "    </tr>\n",
       "    <tr>\n",
       "      <th>61</th>\n",
       "      <td>totals.visits_nan</td>\n",
       "      <td>0.000000</td>\n",
       "    </tr>\n",
       "    <tr>\n",
       "      <th>60</th>\n",
       "      <td>totals.visits_1</td>\n",
       "      <td>0.000000</td>\n",
       "    </tr>\n",
       "    <tr>\n",
       "      <th>59</th>\n",
       "      <td>totals.newVisits_nan</td>\n",
       "      <td>0.000000</td>\n",
       "    </tr>\n",
       "    <tr>\n",
       "      <th>56</th>\n",
       "      <td>totals.bounces_nan</td>\n",
       "      <td>0.000000</td>\n",
       "    </tr>\n",
       "    <tr>\n",
       "      <th>55</th>\n",
       "      <td>totals.bounces_-1</td>\n",
       "      <td>0.000000</td>\n",
       "    </tr>\n",
       "    <tr>\n",
       "      <th>54</th>\n",
       "      <td>totals.bounces_1</td>\n",
       "      <td>0.000000</td>\n",
       "    </tr>\n",
       "    <tr>\n",
       "      <th>53</th>\n",
       "      <td>geoNetwork.networkLocation_nan</td>\n",
       "      <td>0.000000</td>\n",
       "    </tr>\n",
       "    <tr>\n",
       "      <th>52</th>\n",
       "      <td>geoNetwork.networkLocation_not available in de...</td>\n",
       "      <td>0.000000</td>\n",
       "    </tr>\n",
       "    <tr>\n",
       "      <th>51</th>\n",
       "      <td>geoNetwork.longitude_nan</td>\n",
       "      <td>0.000000</td>\n",
       "    </tr>\n",
       "    <tr>\n",
       "      <th>50</th>\n",
       "      <td>geoNetwork.longitude_not available in demo dat...</td>\n",
       "      <td>0.000000</td>\n",
       "    </tr>\n",
       "    <tr>\n",
       "      <th>49</th>\n",
       "      <td>geoNetwork.latitude_nan</td>\n",
       "      <td>0.000000</td>\n",
       "    </tr>\n",
       "    <tr>\n",
       "      <th>156</th>\n",
       "      <td>trafficSource.referralPath_na</td>\n",
       "      <td>0.000000</td>\n",
       "    </tr>\n",
       "  </tbody>\n",
       "</table>\n",
       "<p>157 rows × 2 columns</p>\n",
       "</div>"
      ],
      "text/plain": [
       "                                                  cols       imp\n",
       "125                                   totals.pageviews  0.381137\n",
       "124                                        totals.hits  0.137963\n",
       "134                                                Day  0.040989\n",
       "114                                     visitStartTime  0.040983\n",
       "112                                            visitId  0.040088\n",
       "129                         trafficSource.referralPath  0.039951\n",
       "111                                          sessionId  0.036764\n",
       "110                                      fullVisitorId  0.035610\n",
       "136                                          Dayofyear  0.031201\n",
       "121                           geoNetwork.networkDomain  0.026611\n",
       "113                                        visitNumber  0.025556\n",
       "135                                          Dayofweek  0.021682\n",
       "118                                    geoNetwork.city  0.020658\n",
       "122                                  geoNetwork.region  0.017618\n",
       "119                                 geoNetwork.country  0.014001\n",
       "143                                            Elapsed  0.013788\n",
       "120                                   geoNetwork.metro  0.012287\n",
       "117                             device.operatingSystem  0.009593\n",
       "133                                               Week  0.005737\n",
       "145                                totals.newVisits_na  0.004754\n",
       "58                                 totals.newVisits_-1  0.004624\n",
       "57                                  totals.newVisits_1  0.004372\n",
       "128                              trafficSource.keyword  0.004049\n",
       "100                      trafficSource.isTrueDirect_-1  0.003846\n",
       "99                     trafficSource.isTrueDirect_True  0.003689\n",
       "130                               trafficSource.source  0.003519\n",
       "115                                     device.browser  0.002504\n",
       "154                      trafficSource.isTrueDirect_na  0.002200\n",
       "116                                    device.isMobile  0.001818\n",
       "2                               channelGrouping_Direct  0.001701\n",
       "..                                                 ...       ...\n",
       "81             trafficSource.adwordsClickInfo.slot_RHS  0.000000\n",
       "80             trafficSource.adwordsClickInfo.page_nan  0.000000\n",
       "79              trafficSource.adwordsClickInfo.page_-1  0.000000\n",
       "1                           channelGrouping_Affiliates  0.000000\n",
       "77               trafficSource.adwordsClickInfo.page_7  0.000000\n",
       "76               trafficSource.adwordsClickInfo.page_5  0.000000\n",
       "75               trafficSource.adwordsClickInfo.page_4  0.000000\n",
       "74               trafficSource.adwordsClickInfo.page_3  0.000000\n",
       "73               trafficSource.adwordsClickInfo.page_2  0.000000\n",
       "72              trafficSource.adwordsClickInfo.page_14  0.000000\n",
       "71               trafficSource.adwordsClickInfo.page_1  0.000000\n",
       "70        trafficSource.adwordsClickInfo.isVideoAd_nan  0.000000\n",
       "67   trafficSource.adwordsClickInfo.criteriaParamet...  0.000000\n",
       "65    trafficSource.adwordsClickInfo.adNetworkType_nan  0.000000\n",
       "48   geoNetwork.latitude_not available in demo dataset  0.000000\n",
       "64     trafficSource.adwordsClickInfo.adNetworkType_-1  0.000000\n",
       "63   trafficSource.adwordsClickInfo.adNetworkType_S...  0.000000\n",
       "62   trafficSource.adwordsClickInfo.adNetworkType_G...  0.000000\n",
       "61                                   totals.visits_nan  0.000000\n",
       "60                                     totals.visits_1  0.000000\n",
       "59                                totals.newVisits_nan  0.000000\n",
       "56                                  totals.bounces_nan  0.000000\n",
       "55                                   totals.bounces_-1  0.000000\n",
       "54                                    totals.bounces_1  0.000000\n",
       "53                      geoNetwork.networkLocation_nan  0.000000\n",
       "52   geoNetwork.networkLocation_not available in de...  0.000000\n",
       "51                            geoNetwork.longitude_nan  0.000000\n",
       "50   geoNetwork.longitude_not available in demo dat...  0.000000\n",
       "49                             geoNetwork.latitude_nan  0.000000\n",
       "156                      trafficSource.referralPath_na  0.000000\n",
       "\n",
       "[157 rows x 2 columns]"
      ]
     },
     "execution_count": 125,
     "metadata": {},
     "output_type": "execute_result"
    }
   ],
   "source": [
    "rf_feat_importance(model,train_x)"
   ]
  },
  {
   "cell_type": "code",
   "execution_count": 128,
   "metadata": {},
   "outputs": [
    {
     "data": {
      "text/plain": [
       "0         1472830385\n",
       "1         1472880147\n",
       "2         1472865386\n",
       "3         1472881213\n",
       "4         1472822600\n",
       "5         1472807194\n",
       "6         1472817241\n",
       "7         1472812602\n",
       "8         1472805784\n",
       "9         1472812272\n",
       "10        1472834967\n",
       "11        1472849434\n",
       "12        1472839882\n",
       "13        1472803483\n",
       "14        1472868337\n",
       "15        1472824614\n",
       "16        1472801099\n",
       "17        1472826820\n",
       "18        1472804607\n",
       "19        1472856874\n",
       "20        1472826420\n",
       "21        1472863754\n",
       "22        1472872530\n",
       "23        1472808484\n",
       "24        1472806593\n",
       "25        1472816048\n",
       "26        1472808002\n",
       "27        1472885255\n",
       "28        1472828340\n",
       "29        1472839261\n",
       "             ...    \n",
       "903623    1483525429\n",
       "903624    1483573406\n",
       "903625    1483580548\n",
       "903626    1483555912\n",
       "903627    1483518594\n",
       "903628    1483520492\n",
       "903629    1483534287\n",
       "903630    1483593323\n",
       "903631    1483535458\n",
       "903632    1483533556\n",
       "903633    1483550538\n",
       "903634    1483534920\n",
       "903635    1483556696\n",
       "903636    1483561580\n",
       "903637    1483548841\n",
       "903638    1483533179\n",
       "903639    1483541485\n",
       "903640    1483569025\n",
       "903641    1483589327\n",
       "903642    1483573235\n",
       "903643    1483600246\n",
       "903644    1483556333\n",
       "903645    1483570454\n",
       "903646    1483581760\n",
       "903647    1483557808\n",
       "903648    1483554750\n",
       "903649    1483543798\n",
       "903650    1483526434\n",
       "903651    1483592857\n",
       "903652    1483574474\n",
       "Name: visitId, Length: 700336, dtype: int64"
      ]
     },
     "execution_count": 128,
     "metadata": {},
     "output_type": "execute_result"
    }
   ],
   "source": [
    "train_x.visitId"
   ]
  },
  {
   "cell_type": "code",
   "execution_count": null,
   "metadata": {},
   "outputs": [],
   "source": [
    "model.feature_importances_"
   ]
  },
  {
   "cell_type": "code",
   "execution_count": null,
   "metadata": {},
   "outputs": [],
   "source": [
    "model.score(train_x,train_y)"
   ]
  },
  {
   "cell_type": "code",
   "execution_count": 43,
   "metadata": {},
   "outputs": [
    {
     "data": {
      "text/plain": [
       "0.4957868653123717"
      ]
     },
     "execution_count": 43,
     "metadata": {},
     "output_type": "execute_result"
    }
   ],
   "source": [
    "model.score(val_x,val_y)"
   ]
  },
  {
   "cell_type": "code",
   "execution_count": null,
   "metadata": {},
   "outputs": [],
   "source": [
    "# Feature importance analysis"
   ]
  },
  {
   "cell_type": "code",
   "execution_count": null,
   "metadata": {},
   "outputs": [],
   "source": [
    "# other kinds of feature importance"
   ]
  },
  {
   "cell_type": "code",
   "execution_count": null,
   "metadata": {},
   "outputs": [],
   "source": [
    "# investigate important features "
   ]
  },
  {
   "cell_type": "code",
   "execution_count": null,
   "metadata": {},
   "outputs": [],
   "source": [
    "# rerun the model"
   ]
  },
  {
   "cell_type": "code",
   "execution_count": null,
   "metadata": {},
   "outputs": [],
   "source": [
    "# run a random search on hyperparameters "
   ]
  },
  {
   "cell_type": "code",
   "execution_count": null,
   "metadata": {},
   "outputs": [],
   "source": []
  },
  {
   "cell_type": "code",
   "execution_count": null,
   "metadata": {},
   "outputs": [],
   "source": []
  }
 ],
 "metadata": {
  "kernelspec": {
   "display_name": "Python [default]",
   "language": "python",
   "name": "python3"
  },
  "language_info": {
   "codemirror_mode": {
    "name": "ipython",
    "version": 3
   },
   "file_extension": ".py",
   "mimetype": "text/x-python",
   "name": "python",
   "nbconvert_exporter": "python",
   "pygments_lexer": "ipython3",
   "version": "3.6.6"
  },
  "toc": {
   "base_numbering": 1,
   "nav_menu": {},
   "number_sections": true,
   "sideBar": true,
   "skip_h1_title": false,
   "title_cell": "Table of Contents",
   "title_sidebar": "Contents",
   "toc_cell": false,
   "toc_position": {},
   "toc_section_display": true,
   "toc_window_display": false
  }
 },
 "nbformat": 4,
 "nbformat_minor": 2
}
