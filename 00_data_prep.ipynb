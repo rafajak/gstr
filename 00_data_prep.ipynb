{
 "cells": [
  {
   "cell_type": "code",
   "execution_count": 1,
   "metadata": {},
   "outputs": [],
   "source": [
    "%matplotlib inline"
   ]
  },
  {
   "cell_type": "code",
   "execution_count": 2,
   "metadata": {},
   "outputs": [],
   "source": [
    "import pandas as pd\n",
    "import numpy as np\n",
    "import re\n",
    "from pandas.io.json import json_normalize\n",
    "from pandas.api.types import is_string_dtype\n",
    "import os\n",
    "import json\n",
    "\n",
    "from sklearn.ensemble import RandomForestClassifier\n",
    "from sklearn.linear_model import LinearRegression"
   ]
  },
  {
   "cell_type": "code",
   "execution_count": 3,
   "metadata": {},
   "outputs": [],
   "source": [
    "PATH = '../data/'"
   ]
  },
  {
   "cell_type": "markdown",
   "metadata": {},
   "source": [
    "## todo:\n",
    "\n",
    "1. <s> Figure out how to get stuff out of the JSON columns </s>\n",
    "3. <s> Prepare the dependent variable so it predicts what it needs to </s>\n",
    "4. <s> Make sure categorical variables are correctly encoded </s>\n",
    "5. <s> one-hot encode variables with cardinality <7 </s>\n",
    "6. <s> Get variables out of the date variable </s>\n",
    "7. Not sure I understand the distribution of \"totals.transactionRevenue\". Why is the mode around 16? \n",
    "7. <s> Deal with missing values </s>\n",
    "8. Preprocess the test data, too. Run the transformations on the joint df and then divide\n",
    "\n"
   ]
  },
  {
   "cell_type": "markdown",
   "metadata": {},
   "source": [
    "# Load the data"
   ]
  },
  {
   "cell_type": "code",
   "execution_count": 4,
   "metadata": {},
   "outputs": [],
   "source": [
    "JSON_COLUMNS = ['device', 'geoNetwork', 'totals', 'trafficSource']"
   ]
  },
  {
   "cell_type": "code",
   "execution_count": 5,
   "metadata": {},
   "outputs": [],
   "source": [
    "# Get data hidden inside json columns out into separate columns \n",
    "# credit: julian3833 https://www.kaggle.com/julian3833/1-quick-start-read-csv-and-flatten-json-fields\n",
    "\n",
    "def load_df(csv_path=f'{PATH}train.csv', nrows=None):\n",
    "    JSON_COLUMNS = ['device', 'geoNetwork', 'totals', 'trafficSource']\n",
    "    \n",
    "    df = pd.read_csv(csv_path, \n",
    "                     converters={column: json.loads for column in JSON_COLUMNS}, \n",
    "                     dtype={'fullVisitorId': 'str',\n",
    "                            'totals.transactionRevenu': 'int64'\n",
    "                           },\n",
    "                     nrows=nrows)\n",
    "    \n",
    "    for column in JSON_COLUMNS:\n",
    "        column_as_df = json_normalize(df[column])\n",
    "        column_as_df.columns = [f\"{column}.{subcolumn}\" for subcolumn in column_as_df.columns]\n",
    "        df = df.drop(column, axis=1).merge(column_as_df, right_index=True, left_index=True)\n",
    "    print(f\"Loaded {os.path.basename(csv_path)}. Shape: {df.shape}\")\n",
    "    return df"
   ]
  },
  {
   "cell_type": "code",
   "execution_count": 6,
   "metadata": {},
   "outputs": [],
   "source": [
    "nrows=None\n",
    "# nrows=2000"
   ]
  },
  {
   "cell_type": "code",
   "execution_count": 7,
   "metadata": {
    "scrolled": true
   },
   "outputs": [
    {
     "name": "stdout",
     "output_type": "stream",
     "text": [
      "Loaded train.csv. Shape: (903653, 55)\n",
      "CPU times: user 2min 35s, sys: 13 s, total: 2min 48s\n",
      "Wall time: 2min 46s\n"
     ]
    }
   ],
   "source": [
    "%time df = load_df(nrows=nrows)"
   ]
  },
  {
   "cell_type": "code",
   "execution_count": 8,
   "metadata": {
    "scrolled": true
   },
   "outputs": [
    {
     "data": {
      "text/html": [
       "<div>\n",
       "<style scoped>\n",
       "    .dataframe tbody tr th:only-of-type {\n",
       "        vertical-align: middle;\n",
       "    }\n",
       "\n",
       "    .dataframe tbody tr th {\n",
       "        vertical-align: top;\n",
       "    }\n",
       "\n",
       "    .dataframe thead th {\n",
       "        text-align: right;\n",
       "    }\n",
       "</style>\n",
       "<table border=\"1\" class=\"dataframe\">\n",
       "  <thead>\n",
       "    <tr style=\"text-align: right;\">\n",
       "      <th></th>\n",
       "      <th>date</th>\n",
       "      <th>visitId</th>\n",
       "      <th>visitNumber</th>\n",
       "      <th>visitStartTime</th>\n",
       "    </tr>\n",
       "  </thead>\n",
       "  <tbody>\n",
       "    <tr>\n",
       "      <th>count</th>\n",
       "      <td>9.036530e+05</td>\n",
       "      <td>9.036530e+05</td>\n",
       "      <td>903653.000000</td>\n",
       "      <td>9.036530e+05</td>\n",
       "    </tr>\n",
       "    <tr>\n",
       "      <th>mean</th>\n",
       "      <td>2.016589e+07</td>\n",
       "      <td>1.485007e+09</td>\n",
       "      <td>2.264897</td>\n",
       "      <td>1.485007e+09</td>\n",
       "    </tr>\n",
       "    <tr>\n",
       "      <th>std</th>\n",
       "      <td>4.697698e+03</td>\n",
       "      <td>9.022124e+06</td>\n",
       "      <td>9.283735</td>\n",
       "      <td>9.022124e+06</td>\n",
       "    </tr>\n",
       "    <tr>\n",
       "      <th>min</th>\n",
       "      <td>2.016080e+07</td>\n",
       "      <td>1.470035e+09</td>\n",
       "      <td>1.000000</td>\n",
       "      <td>1.470035e+09</td>\n",
       "    </tr>\n",
       "    <tr>\n",
       "      <th>25%</th>\n",
       "      <td>2.016103e+07</td>\n",
       "      <td>1.477561e+09</td>\n",
       "      <td>1.000000</td>\n",
       "      <td>1.477561e+09</td>\n",
       "    </tr>\n",
       "    <tr>\n",
       "      <th>50%</th>\n",
       "      <td>2.017011e+07</td>\n",
       "      <td>1.483949e+09</td>\n",
       "      <td>1.000000</td>\n",
       "      <td>1.483949e+09</td>\n",
       "    </tr>\n",
       "    <tr>\n",
       "      <th>75%</th>\n",
       "      <td>2.017042e+07</td>\n",
       "      <td>1.492759e+09</td>\n",
       "      <td>1.000000</td>\n",
       "      <td>1.492759e+09</td>\n",
       "    </tr>\n",
       "    <tr>\n",
       "      <th>max</th>\n",
       "      <td>2.017080e+07</td>\n",
       "      <td>1.501657e+09</td>\n",
       "      <td>395.000000</td>\n",
       "      <td>1.501657e+09</td>\n",
       "    </tr>\n",
       "  </tbody>\n",
       "</table>\n",
       "</div>"
      ],
      "text/plain": [
       "               date       visitId    visitNumber  visitStartTime\n",
       "count  9.036530e+05  9.036530e+05  903653.000000    9.036530e+05\n",
       "mean   2.016589e+07  1.485007e+09       2.264897    1.485007e+09\n",
       "std    4.697698e+03  9.022124e+06       9.283735    9.022124e+06\n",
       "min    2.016080e+07  1.470035e+09       1.000000    1.470035e+09\n",
       "25%    2.016103e+07  1.477561e+09       1.000000    1.477561e+09\n",
       "50%    2.017011e+07  1.483949e+09       1.000000    1.483949e+09\n",
       "75%    2.017042e+07  1.492759e+09       1.000000    1.492759e+09\n",
       "max    2.017080e+07  1.501657e+09     395.000000    1.501657e+09"
      ]
     },
     "execution_count": 8,
     "metadata": {},
     "output_type": "execute_result"
    }
   ],
   "source": [
    "df.describe()"
   ]
  },
  {
   "cell_type": "code",
   "execution_count": 9,
   "metadata": {},
   "outputs": [
    {
     "data": {
      "text/plain": [
       "(20160801, 20170801)"
      ]
     },
     "execution_count": 9,
     "metadata": {},
     "output_type": "execute_result"
    }
   ],
   "source": [
    "#date span\n",
    "df.date.min(), df.date.max()"
   ]
  },
  {
   "cell_type": "markdown",
   "metadata": {},
   "source": [
    "# Add date variables"
   ]
  },
  {
   "cell_type": "code",
   "execution_count": 10,
   "metadata": {},
   "outputs": [],
   "source": [
    "# extract date vars. Adapted from the fastai library\n",
    "\n",
    "def add_datepart(df, fldname, drop=False, time=False):\n",
    "    \n",
    "    fld = df[fldname]\n",
    "    fld_dtype = fld.dtype\n",
    "\n",
    "    if isinstance(fld_dtype, pd.core.dtypes.dtypes.DatetimeTZDtype):\n",
    "        fld_dtype = np.datetime64\n",
    "\n",
    "    if not np.issubdtype(fld_dtype, np.datetime64):\n",
    "        df[fldname] = fld = pd.to_datetime(fld, format='%Y%m%d')\n",
    "        \n",
    "    targ_pre = re.sub('[Dd]ate$', '', fldname)\n",
    "    attr = ['Year', 'Month', 'Week', 'Day', 'Dayofweek', 'Dayofyear',\n",
    "            'Is_month_end', 'Is_month_start', 'Is_quarter_end', 'Is_quarter_start', 'Is_year_end', 'Is_year_start']\n",
    "    if time: \n",
    "        attr = attr + ['Hour', 'Minute', 'Second']\n",
    "    for n in attr: \n",
    "        df[targ_pre + n] = getattr(fld.dt, n.lower())\n",
    "        \n",
    "    df[targ_pre + 'Elapsed'] = fld.astype(np.int64) // 10 ** 9\n",
    "    \n",
    "    if drop: \n",
    "        df.drop(fldname, axis=1, inplace=True)"
   ]
  },
  {
   "cell_type": "code",
   "execution_count": 11,
   "metadata": {},
   "outputs": [],
   "source": [
    "add_datepart(df, 'date')"
   ]
  },
  {
   "cell_type": "markdown",
   "metadata": {},
   "source": [
    "# Converting string variables into category variables."
   ]
  },
  {
   "cell_type": "code",
   "execution_count": 12,
   "metadata": {},
   "outputs": [],
   "source": [
    "cat_vars = []\n",
    "for n,c in df.items():\n",
    "    if is_string_dtype(c): \n",
    "        cat_vars.append(n)\n",
    "        df[n] = c.astype('category').cat.as_ordered()"
   ]
  },
  {
   "cell_type": "markdown",
   "metadata": {},
   "source": [
    "# A quick look at the missing values"
   ]
  },
  {
   "cell_type": "code",
   "execution_count": 13,
   "metadata": {
    "scrolled": true
   },
   "outputs": [
    {
     "data": {
      "text/plain": [
       "Day                                                  0.000000\n",
       "Dayofweek                                            0.000000\n",
       "Dayofyear                                            0.000000\n",
       "Elapsed                                              0.000000\n",
       "Is_month_end                                         0.000000\n",
       "Is_month_start                                       0.000000\n",
       "Is_quarter_end                                       0.000000\n",
       "Is_quarter_start                                     0.000000\n",
       "Is_year_end                                          0.000000\n",
       "Is_year_start                                        0.000000\n",
       "Month                                                0.000000\n",
       "Week                                                 0.000000\n",
       "Year                                                 0.000000\n",
       "channelGrouping                                      0.000000\n",
       "date                                                 0.000000\n",
       "device.browser                                       0.000000\n",
       "device.browserSize                                   0.000000\n",
       "device.browserVersion                                0.000000\n",
       "device.deviceCategory                                0.000000\n",
       "device.flashVersion                                  0.000000\n",
       "device.isMobile                                      0.000000\n",
       "device.language                                      0.000000\n",
       "device.mobileDeviceBranding                          0.000000\n",
       "device.mobileDeviceInfo                              0.000000\n",
       "device.mobileDeviceMarketingName                     0.000000\n",
       "device.mobileDeviceModel                             0.000000\n",
       "device.mobileInputSelector                           0.000000\n",
       "device.operatingSystem                               0.000000\n",
       "device.operatingSystemVersion                        0.000000\n",
       "device.screenColors                                  0.000000\n",
       "                                                       ...   \n",
       "geoNetwork.metro                                     0.000000\n",
       "geoNetwork.networkDomain                             0.000000\n",
       "geoNetwork.networkLocation                           0.000000\n",
       "geoNetwork.region                                    0.000000\n",
       "geoNetwork.subContinent                              0.000000\n",
       "sessionId                                            0.000000\n",
       "socialEngagementType                                 0.000000\n",
       "totals.bounces                                       0.501324\n",
       "totals.hits                                          0.000000\n",
       "totals.newVisits                                     0.221980\n",
       "totals.pageviews                                     0.000111\n",
       "totals.transactionRevenue                            0.987257\n",
       "totals.visits                                        0.000000\n",
       "trafficSource.adContent                              0.987887\n",
       "trafficSource.adwordsClickInfo.adNetworkType         0.976252\n",
       "trafficSource.adwordsClickInfo.criteriaParameters    0.000000\n",
       "trafficSource.adwordsClickInfo.gclId                 0.976140\n",
       "trafficSource.adwordsClickInfo.isVideoAd             0.976252\n",
       "trafficSource.adwordsClickInfo.page                  0.976252\n",
       "trafficSource.adwordsClickInfo.slot                  0.976252\n",
       "trafficSource.campaign                               0.000000\n",
       "trafficSource.campaignCode                           0.999999\n",
       "trafficSource.isTrueDirect                           0.696781\n",
       "trafficSource.keyword                                0.556551\n",
       "trafficSource.medium                                 0.000000\n",
       "trafficSource.referralPath                           0.633774\n",
       "trafficSource.source                                 0.000000\n",
       "visitId                                              0.000000\n",
       "visitNumber                                          0.000000\n",
       "visitStartTime                                       0.000000\n",
       "Length: 68, dtype: float64"
      ]
     },
     "execution_count": 13,
     "metadata": {},
     "output_type": "execute_result"
    }
   ],
   "source": [
    "df.isnull().sum().sort_index()/len(df)"
   ]
  },
  {
   "cell_type": "code",
   "execution_count": 14,
   "metadata": {},
   "outputs": [],
   "source": [
    "df = df.replace([np.inf, -np.inf], np.nan)"
   ]
  },
  {
   "cell_type": "code",
   "execution_count": 15,
   "metadata": {},
   "outputs": [
    {
     "data": {
      "text/plain": [
       "CategoricalDtype(categories=['10000', '100000000', '100050000', '1000780000',\n",
       "                  '1001590000', '100220000', '100260000', '100350000',\n",
       "                  '100440000', '1004490000',\n",
       "                  ...\n",
       "                  '99850000', '998750000', '9990000', '99900000', '99950000',\n",
       "                  '999500000', '99960000', '99970000', '99980000', '99990000'],\n",
       "                 ordered=True)"
      ]
     },
     "execution_count": 15,
     "metadata": {},
     "output_type": "execute_result"
    }
   ],
   "source": [
    "df['totals.transactionRevenue'].dtype"
   ]
  },
  {
   "cell_type": "code",
   "execution_count": 16,
   "metadata": {},
   "outputs": [
    {
     "data": {
      "text/plain": [
       "NaN          892138\n",
       "16990000        256\n",
       "18990000        189\n",
       "33590000        187\n",
       "44790000        170\n",
       "13590000        135\n",
       "55990000        122\n",
       "19990000        116\n",
       "15990000         98\n",
       "15190000         93\n",
       "19190000         92\n",
       "10990000         84\n",
       "59990000         81\n",
       "24990000         77\n",
       "79990000         65\n",
       "27190000         64\n",
       "27180000         62\n",
       "33980000         54\n",
       "39990000         51\n",
       "67180000         46\n",
       "1990000          44\n",
       "28780000         40\n",
       "21990000         40\n",
       "35980000         39\n",
       "30390000         39\n",
       "17590000         38\n",
       "31990000         37\n",
       "27980000         37\n",
       "30380000         37\n",
       "12990000         37\n",
       "              ...  \n",
       "437070000         1\n",
       "43710000          1\n",
       "43720000          1\n",
       "43780000          1\n",
       "438020000         1\n",
       "43080000          1\n",
       "43850000          1\n",
       "438540000         1\n",
       "4390000           1\n",
       "439000000         1\n",
       "43930000          1\n",
       "43950000          1\n",
       "43640000          1\n",
       "436300000         1\n",
       "43610000          1\n",
       "436020000         1\n",
       "435910000         1\n",
       "43590000          1\n",
       "435860000         1\n",
       "43570000          1\n",
       "43530000          1\n",
       "43450000          1\n",
       "43430000          1\n",
       "43350000          1\n",
       "433120000         1\n",
       "43270000          1\n",
       "43210000          1\n",
       "43200000          1\n",
       "43120000          1\n",
       "10000             1\n",
       "Name: totals.transactionRevenue, Length: 5333, dtype: int64"
      ]
     },
     "execution_count": 16,
     "metadata": {},
     "output_type": "execute_result"
    }
   ],
   "source": [
    "df['totals.transactionRevenue'].value_counts(dropna=False)\n"
   ]
  },
  {
   "cell_type": "code",
   "execution_count": 17,
   "metadata": {
    "scrolled": true
   },
   "outputs": [
    {
     "data": {
      "text/plain": [
       "['totals.bounces',\n",
       " 'totals.newVisits',\n",
       " 'totals.pageviews',\n",
       " 'totals.transactionRevenue',\n",
       " 'trafficSource.adContent',\n",
       " 'trafficSource.adwordsClickInfo.adNetworkType',\n",
       " 'trafficSource.adwordsClickInfo.gclId',\n",
       " 'trafficSource.adwordsClickInfo.isVideoAd',\n",
       " 'trafficSource.adwordsClickInfo.page',\n",
       " 'trafficSource.adwordsClickInfo.slot',\n",
       " 'trafficSource.campaignCode',\n",
       " 'trafficSource.isTrueDirect',\n",
       " 'trafficSource.keyword',\n",
       " 'trafficSource.referralPath']"
      ]
     },
     "execution_count": 17,
     "metadata": {},
     "output_type": "execute_result"
    }
   ],
   "source": [
    "# df.info(null_counts=True)\n",
    "cols_with_nulls = []\n",
    "for col in df.columns: \n",
    "    if df[col].hasnans: \n",
    "        cols_with_nulls.append(col)\n",
    "        \n",
    "cols_with_nulls"
   ]
  },
  {
   "cell_type": "code",
   "execution_count": 18,
   "metadata": {},
   "outputs": [
    {
     "data": {
      "text/plain": [
       "NaN    453023\n",
       "1      450630\n",
       "Name: totals.bounces, dtype: int64"
      ]
     },
     "execution_count": 18,
     "metadata": {},
     "output_type": "execute_result"
    }
   ],
   "source": [
    "df['totals.bounces'].value_counts(dropna=False)"
   ]
  },
  {
   "cell_type": "code",
   "execution_count": 19,
   "metadata": {},
   "outputs": [],
   "source": [
    "for col in cols_with_nulls:\n",
    "    if pd.api.types.is_numeric_dtype(df[col]):\n",
    "        df[col+'_na'] = pd.isnull(df[col])\n",
    "        df[col] = df[col].fillna(df[col].median())\n",
    "    elif pd.api.types.is_categorical_dtype(df[col]):\n",
    "        df[col+'_na'] = pd.isnull(df[col])\n",
    "        df[col] =  df[col].cat.add_categories([\"-1\"])\n",
    "        df[col] = df[col].fillna(\"-1\")\n",
    "\n",
    "\n"
   ]
  },
  {
   "cell_type": "code",
   "execution_count": 20,
   "metadata": {},
   "outputs": [
    {
     "data": {
      "text/plain": [
       "[]"
      ]
     },
     "execution_count": 20,
     "metadata": {},
     "output_type": "execute_result"
    }
   ],
   "source": [
    "cols_with_nulls = []\n",
    "for col in df.columns: \n",
    "    if df[col].hasnans: \n",
    "        cols_with_nulls.append(col)\n",
    "        \n",
    "cols_with_nulls"
   ]
  },
  {
   "cell_type": "code",
   "execution_count": 21,
   "metadata": {},
   "outputs": [
    {
     "data": {
      "text/plain": [
       "-1    453023\n",
       "1     450630\n",
       "Name: totals.bounces, dtype: int64"
      ]
     },
     "execution_count": 21,
     "metadata": {},
     "output_type": "execute_result"
    }
   ],
   "source": [
    "df['totals.bounces'].value_counts(dropna=False)"
   ]
  },
  {
   "cell_type": "code",
   "execution_count": 22,
   "metadata": {},
   "outputs": [
    {
     "data": {
      "text/plain": [
       "-1    453023\n",
       "1     450630\n",
       "Name: totals.bounces, dtype: int64"
      ]
     },
     "execution_count": 22,
     "metadata": {},
     "output_type": "execute_result"
    }
   ],
   "source": [
    "df['totals.bounces'].value_counts(dropna=False)"
   ]
  },
  {
   "cell_type": "markdown",
   "metadata": {},
   "source": [
    "# One-hot encoding categorical variables with cardinality <= 15."
   ]
  },
  {
   "cell_type": "code",
   "execution_count": 23,
   "metadata": {},
   "outputs": [],
   "source": [
    "def dummify(df, min_cardinality=0, max_cardinality=15):\n",
    "\n",
    "    to_dummify = []\n",
    "    \n",
    "    for n,c in df.items():\n",
    "        \n",
    "        if str(df.dtypes[n]) == 'category':\n",
    "            if ((len(df[n].cat.categories)) > min_cardinality) \\\n",
    "            & ((len(df[n].cat.categories)) <= max_cardinality):\n",
    "                to_dummify.append(n)\n",
    "                \n",
    "    dummified = pd.get_dummies(df[to_dummify], dummy_na=True)\n",
    "    dummified = pd.concat([dummified, df], axis=1)\n",
    "    dummified_df = dummified.drop(to_dummify, axis=1)\n",
    "    \n",
    "    return to_dummify, dummified_df"
   ]
  },
  {
   "cell_type": "code",
   "execution_count": 24,
   "metadata": {},
   "outputs": [],
   "source": [
    "dumd_vars, df = dummify(df)"
   ]
  },
  {
   "cell_type": "code",
   "execution_count": 25,
   "metadata": {},
   "outputs": [],
   "source": [
    "#These are the remaining, not dummified categorical variables.\n",
    "#Let's convert them to ints (otherwise sklearn's random forest is grumpy)\n",
    "\n",
    "remaining_cat_vars = (list(set(cat_vars) - set(dumd_vars))) \n",
    "\n",
    "for var in remaining_cat_vars:\n",
    "    df[var] = df[var].cat.codes"
   ]
  },
  {
   "cell_type": "markdown",
   "metadata": {},
   "source": [
    "# Prepare the dependent variable (log-transform)"
   ]
  },
  {
   "cell_type": "code",
   "execution_count": 26,
   "metadata": {},
   "outputs": [],
   "source": [
    "# Prepare the dependent variable (log)\n",
    "\n",
    "df['totals.transactionRevenue'] = pd.to_numeric(df['totals.transactionRevenue'], errors='coerce')\n",
    "df['totals.transactionRevenue'] = df['totals.transactionRevenue'].fillna(0)\n",
    "df[\"totals.transactionRevenue\"] = np.log1p(df[\"totals.transactionRevenue\"])"
   ]
  },
  {
   "cell_type": "code",
   "execution_count": 27,
   "metadata": {},
   "outputs": [
    {
     "data": {
      "text/plain": [
       "8.581669    892138\n",
       "7.123673       256\n",
       "7.285507       189\n",
       "7.903227       187\n",
       "8.118207       170\n",
       "6.598509       135\n",
       "8.263591       122\n",
       "7.368970       116\n",
       "6.999423        98\n",
       "6.896694        93\n",
       "7.302496        92\n",
       "5.525453        84\n",
       "8.306719        81\n",
       "7.633853        77\n",
       "8.473032        65\n",
       "7.719574        64\n",
       "7.717796        62\n",
       "7.913887        54\n",
       "8.040125        51\n",
       "8.370085        46\n",
       "7.356918        44\n",
       "7.492203        40\n",
       "7.771067        40\n",
       "7.822044        39\n",
       "7.958577        39\n",
       "7.171657        38\n",
       "6.487684        37\n",
       "7.821242        37\n",
       "7.743703        37\n",
       "7.864036        37\n",
       "             ...  \n",
       "6.900731         1\n",
       "6.901737         1\n",
       "6.902743         1\n",
       "6.904751         1\n",
       "6.890609         1\n",
       "6.905753         1\n",
       "6.906755         1\n",
       "6.907755         1\n",
       "6.908755         1\n",
       "6.909753         1\n",
       "6.910751         1\n",
       "6.891626         1\n",
       "6.889591         1\n",
       "6.873164         1\n",
       "6.880384         1\n",
       "6.874198         1\n",
       "6.875232         1\n",
       "6.876265         1\n",
       "6.877296         1\n",
       "6.878326         1\n",
       "6.879356         1\n",
       "6.881411         1\n",
       "6.888573         1\n",
       "6.882438         1\n",
       "6.883462         1\n",
       "6.884487         1\n",
       "6.885509         1\n",
       "6.886532         1\n",
       "6.887553         1\n",
       "8.000014         1\n",
       "Name: totals.transactionRevenue, Length: 5333, dtype: int64"
      ]
     },
     "execution_count": 27,
     "metadata": {},
     "output_type": "execute_result"
    }
   ],
   "source": [
    "df['totals.transactionRevenue'].value_counts(dropna=False)"
   ]
  },
  {
   "cell_type": "markdown",
   "metadata": {},
   "source": [
    "# Save the preprocessed dataset"
   ]
  },
  {
   "cell_type": "code",
   "execution_count": 28,
   "metadata": {},
   "outputs": [],
   "source": [
    "df.to_hdf(f'{PATH}'+\"preprocessed_df.hdf\", key=\"df\")"
   ]
  },
  {
   "cell_type": "markdown",
   "metadata": {},
   "source": [
    "# _tmp"
   ]
  },
  {
   "cell_type": "code",
   "execution_count": null,
   "metadata": {},
   "outputs": [],
   "source": []
  }
 ],
 "metadata": {
  "kernelspec": {
   "display_name": "Python 3",
   "language": "python",
   "name": "python3"
  },
  "language_info": {
   "codemirror_mode": {
    "name": "ipython",
    "version": 3
   },
   "file_extension": ".py",
   "mimetype": "text/x-python",
   "name": "python",
   "nbconvert_exporter": "python",
   "pygments_lexer": "ipython3",
   "version": "3.6.7"
  },
  "toc": {
   "base_numbering": 1,
   "nav_menu": {},
   "number_sections": true,
   "sideBar": true,
   "skip_h1_title": false,
   "title_cell": "Table of Contents",
   "title_sidebar": "Contents",
   "toc_cell": false,
   "toc_position": {},
   "toc_section_display": true,
   "toc_window_display": true
  }
 },
 "nbformat": 4,
 "nbformat_minor": 2
}
